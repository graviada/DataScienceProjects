{
  "nbformat": 4,
  "nbformat_minor": 0,
  "metadata": {
    "colab": {
      "name": "Credit_German.ipynb",
      "provenance": [],
      "authorship_tag": "ABX9TyOXhQUyhJdPVNWiRpJZn2a7",
      "include_colab_link": true
    },
    "kernelspec": {
      "name": "python3",
      "display_name": "Python 3"
    },
    "language_info": {
      "name": "python"
    }
  },
  "cells": [
    {
      "cell_type": "markdown",
      "metadata": {
        "id": "view-in-github",
        "colab_type": "text"
      },
      "source": [
        "<a href=\"https://colab.research.google.com/github/graviada/DataScienceProjects/blob/main/Huawei%20(2022)/Credit_German.ipynb\" target=\"_parent\"><img src=\"https://colab.research.google.com/assets/colab-badge.svg\" alt=\"Open In Colab\"/></a>"
      ]
    },
    {
      "cell_type": "markdown",
      "source": [
        "# **Домашнее задание**\n",
        "### **Задача**:\n",
        "\n",
        "macro_avg = 0.75 и выше"
      ],
      "metadata": {
        "id": "xjlyK8rA0LaZ"
      }
    },
    {
      "cell_type": "code",
      "source": [
        "import numpy as np\n",
        "import pandas as pd\n",
        "import matplotlib.pyplot as plt\n",
        "\n",
        "plt.style.use('ggplot')     # Стиль графиков, можно закомментировать\n",
        "plt.rcParams['figure.figsize'] = (10, 7.5)              \n",
        "\n",
        "from seaborn import heatmap\n",
        "\n",
        "import sklearn\n",
        "import sklearn.datasets as datasets\n",
        "from sklearn.model_selection import train_test_split, GridSearchCV\n",
        "from sklearn.metrics import f1_score, classification_report, confusion_matrix"
      ],
      "metadata": {
        "id": "SC8frUy40P4q"
      },
      "execution_count": null,
      "outputs": []
    },
    {
      "cell_type": "markdown",
      "source": [
        "### **Изучение датасета**"
      ],
      "metadata": {
        "id": "I9OtJM5faVIe"
      }
    },
    {
      "cell_type": "code",
      "source": [
        "data_home = datasets.fetch_openml(name='credit-g')       # Загрузка датасета с OpenML"
      ],
      "metadata": {
        "id": "5wYoxdQk0nie"
      },
      "execution_count": null,
      "outputs": []
    },
    {
      "cell_type": "code",
      "source": [
        "Predictors_home = data_home.get('data')\n",
        "Target_home = data_home.get('target')"
      ],
      "metadata": {
        "id": "8ZmCAhG75g0b"
      },
      "execution_count": null,
      "outputs": []
    },
    {
      "cell_type": "markdown",
      "source": [
        "**Описание атрибутов датасета**\n",
        "\n",
        "        - checking_status         Состояние существующего расчетного счета в немецких марках\n",
        "        - duration                Промежуток, на который брался счет в месяцах\n",
        "        - credit_history          Кредитная история (взятые кредиты, своевременно погашенные, просрочки, критические счета)\n",
        "        - purpose                 Цель кредита (автомобиль, телевизор, др.)\n",
        "        - credit_amount           Сумма кредита\n",
        "        - savings_status          Состояние сберегательного счета/облигаций в немецких марках\n",
        "        - employment              Текущая занятость, количество лет в виде промежутка\n",
        "        - installment_commitment  Ставка рассрочки в процентах от располагаемого дохода\n",
        "        - personal_status         Личный статус (замужем, холост, др.) и пол\n",
        "        - other_parties           Прочие должники/поручители\n",
        "        - residence_since         Настоящее место жительства с X лет (в годах)\n",
        "        - property_magnitude      Имущество (например, недвижимость)\n",
        "        - age                     Возраст в годах\n",
        "        - other_payment_plans     Другие виды рассрочки (банки, магазины)\n",
        "        - housing                 Жилье (аренда, собственное, др.)\n",
        "        - existing_credits        Количество существующих кредитов в этом банке\n",
        "        - job                     Работа\n",
        "        - num_dependents          Количество лиц, на которых возложена обязанность по содержанию\n",
        "        - own_telephone           Телефон (да, нет)\n",
        "        - foreign_worker          Иностранный работник (да, нет)"
      ],
      "metadata": {
        "id": "sxg85rIBa8Ht"
      }
    },
    {
      "cell_type": "code",
      "source": [
        "Predictors_home.describe()"
      ],
      "metadata": {
        "colab": {
          "base_uri": "https://localhost:8080/",
          "height": 300
        },
        "id": "FuPJbsfw6Hex",
        "outputId": "5f7176ef-29a0-42a3-f208-c06abb5cd06d"
      },
      "execution_count": null,
      "outputs": [
        {
          "output_type": "execute_result",
          "data": {
            "text/plain": [
              "          duration  credit_amount  installment_commitment  residence_since  \\\n",
              "count  1000.000000    1000.000000             1000.000000      1000.000000   \n",
              "mean     20.903000    3271.258000                2.973000         2.845000   \n",
              "std      12.058814    2822.736876                1.118715         1.103718   \n",
              "min       4.000000     250.000000                1.000000         1.000000   \n",
              "25%      12.000000    1365.500000                2.000000         2.000000   \n",
              "50%      18.000000    2319.500000                3.000000         3.000000   \n",
              "75%      24.000000    3972.250000                4.000000         4.000000   \n",
              "max      72.000000   18424.000000                4.000000         4.000000   \n",
              "\n",
              "               age  existing_credits  num_dependents  \n",
              "count  1000.000000       1000.000000     1000.000000  \n",
              "mean     35.546000          1.407000        1.155000  \n",
              "std      11.375469          0.577654        0.362086  \n",
              "min      19.000000          1.000000        1.000000  \n",
              "25%      27.000000          1.000000        1.000000  \n",
              "50%      33.000000          1.000000        1.000000  \n",
              "75%      42.000000          2.000000        1.000000  \n",
              "max      75.000000          4.000000        2.000000  "
            ],
            "text/html": [
              "\n",
              "  <div id=\"df-af3aa886-71ac-4918-84a9-3d4eb6a9732b\">\n",
              "    <div class=\"colab-df-container\">\n",
              "      <div>\n",
              "<style scoped>\n",
              "    .dataframe tbody tr th:only-of-type {\n",
              "        vertical-align: middle;\n",
              "    }\n",
              "\n",
              "    .dataframe tbody tr th {\n",
              "        vertical-align: top;\n",
              "    }\n",
              "\n",
              "    .dataframe thead th {\n",
              "        text-align: right;\n",
              "    }\n",
              "</style>\n",
              "<table border=\"1\" class=\"dataframe\">\n",
              "  <thead>\n",
              "    <tr style=\"text-align: right;\">\n",
              "      <th></th>\n",
              "      <th>duration</th>\n",
              "      <th>credit_amount</th>\n",
              "      <th>installment_commitment</th>\n",
              "      <th>residence_since</th>\n",
              "      <th>age</th>\n",
              "      <th>existing_credits</th>\n",
              "      <th>num_dependents</th>\n",
              "    </tr>\n",
              "  </thead>\n",
              "  <tbody>\n",
              "    <tr>\n",
              "      <th>count</th>\n",
              "      <td>1000.000000</td>\n",
              "      <td>1000.000000</td>\n",
              "      <td>1000.000000</td>\n",
              "      <td>1000.000000</td>\n",
              "      <td>1000.000000</td>\n",
              "      <td>1000.000000</td>\n",
              "      <td>1000.000000</td>\n",
              "    </tr>\n",
              "    <tr>\n",
              "      <th>mean</th>\n",
              "      <td>20.903000</td>\n",
              "      <td>3271.258000</td>\n",
              "      <td>2.973000</td>\n",
              "      <td>2.845000</td>\n",
              "      <td>35.546000</td>\n",
              "      <td>1.407000</td>\n",
              "      <td>1.155000</td>\n",
              "    </tr>\n",
              "    <tr>\n",
              "      <th>std</th>\n",
              "      <td>12.058814</td>\n",
              "      <td>2822.736876</td>\n",
              "      <td>1.118715</td>\n",
              "      <td>1.103718</td>\n",
              "      <td>11.375469</td>\n",
              "      <td>0.577654</td>\n",
              "      <td>0.362086</td>\n",
              "    </tr>\n",
              "    <tr>\n",
              "      <th>min</th>\n",
              "      <td>4.000000</td>\n",
              "      <td>250.000000</td>\n",
              "      <td>1.000000</td>\n",
              "      <td>1.000000</td>\n",
              "      <td>19.000000</td>\n",
              "      <td>1.000000</td>\n",
              "      <td>1.000000</td>\n",
              "    </tr>\n",
              "    <tr>\n",
              "      <th>25%</th>\n",
              "      <td>12.000000</td>\n",
              "      <td>1365.500000</td>\n",
              "      <td>2.000000</td>\n",
              "      <td>2.000000</td>\n",
              "      <td>27.000000</td>\n",
              "      <td>1.000000</td>\n",
              "      <td>1.000000</td>\n",
              "    </tr>\n",
              "    <tr>\n",
              "      <th>50%</th>\n",
              "      <td>18.000000</td>\n",
              "      <td>2319.500000</td>\n",
              "      <td>3.000000</td>\n",
              "      <td>3.000000</td>\n",
              "      <td>33.000000</td>\n",
              "      <td>1.000000</td>\n",
              "      <td>1.000000</td>\n",
              "    </tr>\n",
              "    <tr>\n",
              "      <th>75%</th>\n",
              "      <td>24.000000</td>\n",
              "      <td>3972.250000</td>\n",
              "      <td>4.000000</td>\n",
              "      <td>4.000000</td>\n",
              "      <td>42.000000</td>\n",
              "      <td>2.000000</td>\n",
              "      <td>1.000000</td>\n",
              "    </tr>\n",
              "    <tr>\n",
              "      <th>max</th>\n",
              "      <td>72.000000</td>\n",
              "      <td>18424.000000</td>\n",
              "      <td>4.000000</td>\n",
              "      <td>4.000000</td>\n",
              "      <td>75.000000</td>\n",
              "      <td>4.000000</td>\n",
              "      <td>2.000000</td>\n",
              "    </tr>\n",
              "  </tbody>\n",
              "</table>\n",
              "</div>\n",
              "      <button class=\"colab-df-convert\" onclick=\"convertToInteractive('df-af3aa886-71ac-4918-84a9-3d4eb6a9732b')\"\n",
              "              title=\"Convert this dataframe to an interactive table.\"\n",
              "              style=\"display:none;\">\n",
              "        \n",
              "  <svg xmlns=\"http://www.w3.org/2000/svg\" height=\"24px\"viewBox=\"0 0 24 24\"\n",
              "       width=\"24px\">\n",
              "    <path d=\"M0 0h24v24H0V0z\" fill=\"none\"/>\n",
              "    <path d=\"M18.56 5.44l.94 2.06.94-2.06 2.06-.94-2.06-.94-.94-2.06-.94 2.06-2.06.94zm-11 1L8.5 8.5l.94-2.06 2.06-.94-2.06-.94L8.5 2.5l-.94 2.06-2.06.94zm10 10l.94 2.06.94-2.06 2.06-.94-2.06-.94-.94-2.06-.94 2.06-2.06.94z\"/><path d=\"M17.41 7.96l-1.37-1.37c-.4-.4-.92-.59-1.43-.59-.52 0-1.04.2-1.43.59L10.3 9.45l-7.72 7.72c-.78.78-.78 2.05 0 2.83L4 21.41c.39.39.9.59 1.41.59.51 0 1.02-.2 1.41-.59l7.78-7.78 2.81-2.81c.8-.78.8-2.07 0-2.86zM5.41 20L4 18.59l7.72-7.72 1.47 1.35L5.41 20z\"/>\n",
              "  </svg>\n",
              "      </button>\n",
              "      \n",
              "  <style>\n",
              "    .colab-df-container {\n",
              "      display:flex;\n",
              "      flex-wrap:wrap;\n",
              "      gap: 12px;\n",
              "    }\n",
              "\n",
              "    .colab-df-convert {\n",
              "      background-color: #E8F0FE;\n",
              "      border: none;\n",
              "      border-radius: 50%;\n",
              "      cursor: pointer;\n",
              "      display: none;\n",
              "      fill: #1967D2;\n",
              "      height: 32px;\n",
              "      padding: 0 0 0 0;\n",
              "      width: 32px;\n",
              "    }\n",
              "\n",
              "    .colab-df-convert:hover {\n",
              "      background-color: #E2EBFA;\n",
              "      box-shadow: 0px 1px 2px rgba(60, 64, 67, 0.3), 0px 1px 3px 1px rgba(60, 64, 67, 0.15);\n",
              "      fill: #174EA6;\n",
              "    }\n",
              "\n",
              "    [theme=dark] .colab-df-convert {\n",
              "      background-color: #3B4455;\n",
              "      fill: #D2E3FC;\n",
              "    }\n",
              "\n",
              "    [theme=dark] .colab-df-convert:hover {\n",
              "      background-color: #434B5C;\n",
              "      box-shadow: 0px 1px 3px 1px rgba(0, 0, 0, 0.15);\n",
              "      filter: drop-shadow(0px 1px 2px rgba(0, 0, 0, 0.3));\n",
              "      fill: #FFFFFF;\n",
              "    }\n",
              "  </style>\n",
              "\n",
              "      <script>\n",
              "        const buttonEl =\n",
              "          document.querySelector('#df-af3aa886-71ac-4918-84a9-3d4eb6a9732b button.colab-df-convert');\n",
              "        buttonEl.style.display =\n",
              "          google.colab.kernel.accessAllowed ? 'block' : 'none';\n",
              "\n",
              "        async function convertToInteractive(key) {\n",
              "          const element = document.querySelector('#df-af3aa886-71ac-4918-84a9-3d4eb6a9732b');\n",
              "          const dataTable =\n",
              "            await google.colab.kernel.invokeFunction('convertToInteractive',\n",
              "                                                     [key], {});\n",
              "          if (!dataTable) return;\n",
              "\n",
              "          const docLinkHtml = 'Like what you see? Visit the ' +\n",
              "            '<a target=\"_blank\" href=https://colab.research.google.com/notebooks/data_table.ipynb>data table notebook</a>'\n",
              "            + ' to learn more about interactive tables.';\n",
              "          element.innerHTML = '';\n",
              "          dataTable['output_type'] = 'display_data';\n",
              "          await google.colab.output.renderOutput(dataTable, element);\n",
              "          const docLink = document.createElement('div');\n",
              "          docLink.innerHTML = docLinkHtml;\n",
              "          element.appendChild(docLink);\n",
              "        }\n",
              "      </script>\n",
              "    </div>\n",
              "  </div>\n",
              "  "
            ]
          },
          "metadata": {},
          "execution_count": 17
        }
      ]
    },
    {
      "cell_type": "code",
      "source": [
        "Predictors_home.employment.cat.categories"
      ],
      "metadata": {
        "colab": {
          "base_uri": "https://localhost:8080/"
        },
        "id": "Iaowk_nKkXad",
        "outputId": "bf2e3e49-fdd0-42ac-9bdc-e6f7d66eee7d"
      },
      "execution_count": null,
      "outputs": [
        {
          "output_type": "execute_result",
          "data": {
            "text/plain": [
              "Index(['unemployed', '<1', '1<=X<4', '4<=X<7', '>=7'], dtype='object')"
            ]
          },
          "metadata": {},
          "execution_count": 5
        }
      ]
    },
    {
      "cell_type": "code",
      "source": [
        "Predictors_home.personal_status.cat.categories"
      ],
      "metadata": {
        "colab": {
          "base_uri": "https://localhost:8080/"
        },
        "id": "igBYl2DFkrg3",
        "outputId": "4d1f34c8-e733-469b-99e4-f6e460a34db0"
      },
      "execution_count": null,
      "outputs": [
        {
          "output_type": "execute_result",
          "data": {
            "text/plain": [
              "Index(['male div/sep', 'female div/dep/mar', 'male single', 'male mar/wid',\n",
              "       'female single'],\n",
              "      dtype='object')"
            ]
          },
          "metadata": {},
          "execution_count": 6
        }
      ]
    },
    {
      "cell_type": "code",
      "source": [
        "Predictors_home.other_parties.cat.categories"
      ],
      "metadata": {
        "colab": {
          "base_uri": "https://localhost:8080/"
        },
        "id": "ICP3yfXrk2sT",
        "outputId": "56ebc6e6-a8bf-4e1f-b341-f983b5a07e8b"
      },
      "execution_count": null,
      "outputs": [
        {
          "output_type": "execute_result",
          "data": {
            "text/plain": [
              "Index(['none', 'co applicant', 'guarantor'], dtype='object')"
            ]
          },
          "metadata": {},
          "execution_count": 7
        }
      ]
    },
    {
      "cell_type": "code",
      "source": [
        "Predictors_home.residence_since.infer_objects"
      ],
      "metadata": {
        "colab": {
          "base_uri": "https://localhost:8080/"
        },
        "id": "3pTelXFMlCXZ",
        "outputId": "e9d983c7-d40f-4798-de51-430f762e29b5"
      },
      "execution_count": null,
      "outputs": [
        {
          "output_type": "execute_result",
          "data": {
            "text/plain": [
              "<bound method NDFrame.infer_objects of 0      4.0\n",
              "1      2.0\n",
              "2      3.0\n",
              "3      4.0\n",
              "4      4.0\n",
              "      ... \n",
              "995    4.0\n",
              "996    4.0\n",
              "997    4.0\n",
              "998    4.0\n",
              "999    4.0\n",
              "Name: residence_since, Length: 1000, dtype: float64>"
            ]
          },
          "metadata": {},
          "execution_count": 8
        }
      ]
    },
    {
      "cell_type": "markdown",
      "source": [
        "С помощью функции info() посмотрим краткое описание данных. Нас будут интересовать размер датасета, тип данных, наличие нулевых (NaN) значений."
      ],
      "metadata": {
        "id": "Yb-7pTxHalBo"
      }
    },
    {
      "cell_type": "code",
      "source": [
        "Predictors_home.info()"
      ],
      "metadata": {
        "colab": {
          "base_uri": "https://localhost:8080/"
        },
        "id": "Ly1cYrHfZn4x",
        "outputId": "7faec051-55af-4bc8-a5b6-8da70a8b5008"
      },
      "execution_count": null,
      "outputs": [
        {
          "output_type": "stream",
          "name": "stdout",
          "text": [
            "<class 'pandas.core.frame.DataFrame'>\n",
            "RangeIndex: 1000 entries, 0 to 999\n",
            "Data columns (total 20 columns):\n",
            " #   Column                  Non-Null Count  Dtype   \n",
            "---  ------                  --------------  -----   \n",
            " 0   checking_status         1000 non-null   category\n",
            " 1   duration                1000 non-null   float64 \n",
            " 2   credit_history          1000 non-null   category\n",
            " 3   purpose                 1000 non-null   category\n",
            " 4   credit_amount           1000 non-null   float64 \n",
            " 5   savings_status          1000 non-null   category\n",
            " 6   employment              1000 non-null   category\n",
            " 7   installment_commitment  1000 non-null   float64 \n",
            " 8   personal_status         1000 non-null   category\n",
            " 9   other_parties           1000 non-null   category\n",
            " 10  residence_since         1000 non-null   float64 \n",
            " 11  property_magnitude      1000 non-null   category\n",
            " 12  age                     1000 non-null   float64 \n",
            " 13  other_payment_plans     1000 non-null   category\n",
            " 14  housing                 1000 non-null   category\n",
            " 15  existing_credits        1000 non-null   float64 \n",
            " 16  job                     1000 non-null   category\n",
            " 17  num_dependents          1000 non-null   float64 \n",
            " 18  own_telephone           1000 non-null   category\n",
            " 19  foreign_worker          1000 non-null   category\n",
            "dtypes: category(13), float64(7)\n",
            "memory usage: 69.9 KB\n"
          ]
        }
      ]
    },
    {
      "cell_type": "code",
      "source": [
        "Target_home.infer_objects"
      ],
      "metadata": {
        "colab": {
          "base_uri": "https://localhost:8080/"
        },
        "id": "lwC-nztvcwob",
        "outputId": "e74de62f-a944-4ea4-aa87-e72a2451280c"
      },
      "execution_count": null,
      "outputs": [
        {
          "output_type": "execute_result",
          "data": {
            "text/plain": [
              "<bound method NDFrame.infer_objects of 0      good\n",
              "1       bad\n",
              "2      good\n",
              "3      good\n",
              "4       bad\n",
              "       ... \n",
              "995    good\n",
              "996    good\n",
              "997    good\n",
              "998     bad\n",
              "999    good\n",
              "Name: class, Length: 1000, dtype: category\n",
              "Categories (2, object): ['good', 'bad']>"
            ]
          },
          "metadata": {},
          "execution_count": 10
        }
      ]
    },
    {
      "cell_type": "code",
      "source": [
        "sum(Target_home.isna())"
      ],
      "metadata": {
        "colab": {
          "base_uri": "https://localhost:8080/"
        },
        "id": "HQQx-q1Cd1oX",
        "outputId": "8fd6d4c7-bdb5-402e-f6ff-41b6425281b4"
      },
      "execution_count": null,
      "outputs": [
        {
          "output_type": "execute_result",
          "data": {
            "text/plain": [
              "0"
            ]
          },
          "metadata": {},
          "execution_count": 11
        }
      ]
    },
    {
      "cell_type": "code",
      "source": [
        "# Составим словарь, в котором ключами будут являться типы данных в датафрейме, а значениями - названия колонок\n",
        "category_dict = Predictors_home.columns.groupby(Predictors_home.dtypes)\n",
        "category_dict"
      ],
      "metadata": {
        "colab": {
          "base_uri": "https://localhost:8080/"
        },
        "id": "Sf_kaZQYmftl",
        "outputId": "9d871861-07f0-46eb-f65b-1e519e1a3464"
      },
      "execution_count": null,
      "outputs": [
        {
          "output_type": "execute_result",
          "data": {
            "text/plain": [
              "{category: ['checking_status'], float64: ['duration', 'credit_amount', 'installment_commitment', 'residence_since', 'age', 'existing_credits', 'num_dependents'], category: ['credit_history'], category: ['purpose'], category: ['savings_status'], category: ['employment'], category: ['personal_status'], category: ['other_parties'], category: ['property_magnitude'], category: ['other_payment_plans'], category: ['housing'], category: ['job'], category: ['own_telephone'], category: ['foreign_worker']}"
            ]
          },
          "metadata": {},
          "execution_count": 12
        }
      ]
    },
    {
      "cell_type": "markdown",
      "source": [
        "**Итог:**\n",
        "\n",
        "Размер набора примеров: 1000\n",
        "\n",
        "Количество признаков: 21\n",
        "\n",
        "Количество пропущенных значений: 0\n",
        "\n",
        "Категориальных типов: 13"
      ],
      "metadata": {
        "id": "iElBc8cKcd8Y"
      }
    },
    {
      "cell_type": "markdown",
      "source": [
        "### **Подготовка данных**"
      ],
      "metadata": {
        "id": "5-Rondg7lcKR"
      }
    },
    {
      "cell_type": "code",
      "source": [
        "# Корреляция всех представленных атрибутов друг с другом.\n",
        "heatmap(abs(Predictors_home.corr()), annot=True)"
      ],
      "metadata": {
        "colab": {
          "base_uri": "https://localhost:8080/",
          "height": 591
        },
        "id": "eFoiT4b4rtcU",
        "outputId": "18a0ff41-82fa-445b-e442-a2c26c3676f3"
      },
      "execution_count": null,
      "outputs": [
        {
          "output_type": "execute_result",
          "data": {
            "text/plain": [
              "<matplotlib.axes._subplots.AxesSubplot at 0x7f7445fc5090>"
            ]
          },
          "metadata": {},
          "execution_count": 13
        },
        {
          "output_type": "display_data",
          "data": {
            "text/plain": [
              "<Figure size 720x540 with 2 Axes>"
            ],
            "image/png": "[encoded data removed]"
          },
          "metadata": {}
        }
      ]
    },
    {
      "cell_type": "markdown",
      "source": [
        "Интерес представляет лишь взаимная корреляция duration и credit_amount (0.62). Очевидно, что большие суммы действительно будут превалировать в долгосрочных перспективах - это может быть ипотека, покупка автомобиля кредит - все то, на что у клиента нет возможности платить крупными суммами.\n",
        "\n",
        "Теперь создадим дамми-переменные из категориальных типов."
      ],
      "metadata": {
        "id": "eCgy3I9Fswk9"
      }
    },
    {
      "cell_type": "code",
      "source": [
        "# Создание копии оригинального датафрейма\n",
        "predictors_home = Predictors_home.copy()\n",
        "  \n",
        "predictors_home = pd.get_dummies(predictors_home,\n",
        "                     columns = ['checking_status', 'credit_history', 'purpose',\n",
        "                                'savings_status', 'employment', 'personal_status',\n",
        "                                'other_parties', 'property_magnitude', 'other_payment_plans',\n",
        "                                'housing', 'job', 'own_telephone', 'foreign_worker'])\n",
        "\n",
        "predictors_home.head(5)"
      ],
      "metadata": {
        "colab": {
          "base_uri": "https://localhost:8080/",
          "height": 334
        },
        "id": "Y0RRLlpTlbcp",
        "outputId": "de0bbf39-c628-400b-f890-9d54383c3b1e"
      },
      "execution_count": null,
      "outputs": [
        {
          "output_type": "execute_result",
          "data": {
            "text/plain": [
              "   duration  credit_amount  installment_commitment  residence_since   age  \\\n",
              "0       6.0         1169.0                     4.0              4.0  67.0   \n",
              "1      48.0         5951.0                     2.0              2.0  22.0   \n",
              "2      12.0         2096.0                     2.0              3.0  49.0   \n",
              "3      42.0         7882.0                     2.0              4.0  45.0   \n",
              "4      24.0         4870.0                     3.0              4.0  53.0   \n",
              "\n",
              "   existing_credits  num_dependents  checking_status_<0  \\\n",
              "0               2.0             1.0                   1   \n",
              "1               1.0             1.0                   0   \n",
              "2               1.0             2.0                   0   \n",
              "3               1.0             2.0                   1   \n",
              "4               2.0             2.0                   1   \n",
              "\n",
              "   checking_status_0<=X<200  checking_status_>=200  ...  housing_own  \\\n",
              "0                         0                      0  ...            1   \n",
              "1                         1                      0  ...            1   \n",
              "2                         0                      0  ...            1   \n",
              "3                         0                      0  ...            0   \n",
              "4                         0                      0  ...            0   \n",
              "\n",
              "   housing_for free  job_unemp/unskilled non res  job_unskilled resident  \\\n",
              "0                 0                            0                       0   \n",
              "1                 0                            0                       0   \n",
              "2                 0                            0                       1   \n",
              "3                 1                            0                       0   \n",
              "4                 1                            0                       0   \n",
              "\n",
              "   job_skilled  job_high qualif/self emp/mgmt  own_telephone_none  \\\n",
              "0            1                              0                   0   \n",
              "1            1                              0                   1   \n",
              "2            0                              0                   1   \n",
              "3            1                              0                   1   \n",
              "4            1                              0                   1   \n",
              "\n",
              "   own_telephone_yes  foreign_worker_yes  foreign_worker_no  \n",
              "0                  1                   1                  0  \n",
              "1                  0                   1                  0  \n",
              "2                  0                   1                  0  \n",
              "3                  0                   1                  0  \n",
              "4                  0                   1                  0  \n",
              "\n",
              "[5 rows x 63 columns]"
            ],
            "text/html": [
              "\n",
              "  <div id=\"df-4fb50aef-f74e-492a-ad04-23f7de95bd8a\">\n",
              "    <div class=\"colab-df-container\">\n",
              "      <div>\n",
              "<style scoped>\n",
              "    .dataframe tbody tr th:only-of-type {\n",
              "        vertical-align: middle;\n",
              "    }\n",
              "\n",
              "    .dataframe tbody tr th {\n",
              "        vertical-align: top;\n",
              "    }\n",
              "\n",
              "    .dataframe thead th {\n",
              "        text-align: right;\n",
              "    }\n",
              "</style>\n",
              "<table border=\"1\" class=\"dataframe\">\n",
              "  <thead>\n",
              "    <tr style=\"text-align: right;\">\n",
              "      <th></th>\n",
              "      <th>duration</th>\n",
              "      <th>credit_amount</th>\n",
              "      <th>installment_commitment</th>\n",
              "      <th>residence_since</th>\n",
              "      <th>age</th>\n",
              "      <th>existing_credits</th>\n",
              "      <th>num_dependents</th>\n",
              "      <th>checking_status_&lt;0</th>\n",
              "      <th>checking_status_0&lt;=X&lt;200</th>\n",
              "      <th>checking_status_&gt;=200</th>\n",
              "      <th>...</th>\n",
              "      <th>housing_own</th>\n",
              "      <th>housing_for free</th>\n",
              "      <th>job_unemp/unskilled non res</th>\n",
              "      <th>job_unskilled resident</th>\n",
              "      <th>job_skilled</th>\n",
              "      <th>job_high qualif/self emp/mgmt</th>\n",
              "      <th>own_telephone_none</th>\n",
              "      <th>own_telephone_yes</th>\n",
              "      <th>foreign_worker_yes</th>\n",
              "      <th>foreign_worker_no</th>\n",
              "    </tr>\n",
              "  </thead>\n",
              "  <tbody>\n",
              "    <tr>\n",
              "      <th>0</th>\n",
              "      <td>6.0</td>\n",
              "      <td>1169.0</td>\n",
              "      <td>4.0</td>\n",
              "      <td>4.0</td>\n",
              "      <td>67.0</td>\n",
              "      <td>2.0</td>\n",
              "      <td>1.0</td>\n",
              "      <td>1</td>\n",
              "      <td>0</td>\n",
              "      <td>0</td>\n",
              "      <td>...</td>\n",
              "      <td>1</td>\n",
              "      <td>0</td>\n",
              "      <td>0</td>\n",
              "      <td>0</td>\n",
              "      <td>1</td>\n",
              "      <td>0</td>\n",
              "      <td>0</td>\n",
              "      <td>1</td>\n",
              "      <td>1</td>\n",
              "      <td>0</td>\n",
              "    </tr>\n",
              "    <tr>\n",
              "      <th>1</th>\n",
              "      <td>48.0</td>\n",
              "      <td>5951.0</td>\n",
              "      <td>2.0</td>\n",
              "      <td>2.0</td>\n",
              "      <td>22.0</td>\n",
              "      <td>1.0</td>\n",
              "      <td>1.0</td>\n",
              "      <td>0</td>\n",
              "      <td>1</td>\n",
              "      <td>0</td>\n",
              "      <td>...</td>\n",
              "      <td>1</td>\n",
              "      <td>0</td>\n",
              "      <td>0</td>\n",
              "      <td>0</td>\n",
              "      <td>1</td>\n",
              "      <td>0</td>\n",
              "      <td>1</td>\n",
              "      <td>0</td>\n",
              "      <td>1</td>\n",
              "      <td>0</td>\n",
              "    </tr>\n",
              "    <tr>\n",
              "      <th>2</th>\n",
              "      <td>12.0</td>\n",
              "      <td>2096.0</td>\n",
              "      <td>2.0</td>\n",
              "      <td>3.0</td>\n",
              "      <td>49.0</td>\n",
              "      <td>1.0</td>\n",
              "      <td>2.0</td>\n",
              "      <td>0</td>\n",
              "      <td>0</td>\n",
              "      <td>0</td>\n",
              "      <td>...</td>\n",
              "      <td>1</td>\n",
              "      <td>0</td>\n",
              "      <td>0</td>\n",
              "      <td>1</td>\n",
              "      <td>0</td>\n",
              "      <td>0</td>\n",
              "      <td>1</td>\n",
              "      <td>0</td>\n",
              "      <td>1</td>\n",
              "      <td>0</td>\n",
              "    </tr>\n",
              "    <tr>\n",
              "      <th>3</th>\n",
              "      <td>42.0</td>\n",
              "      <td>7882.0</td>\n",
              "      <td>2.0</td>\n",
              "      <td>4.0</td>\n",
              "      <td>45.0</td>\n",
              "      <td>1.0</td>\n",
              "      <td>2.0</td>\n",
              "      <td>1</td>\n",
              "      <td>0</td>\n",
              "      <td>0</td>\n",
              "      <td>...</td>\n",
              "      <td>0</td>\n",
              "      <td>1</td>\n",
              "      <td>0</td>\n",
              "      <td>0</td>\n",
              "      <td>1</td>\n",
              "      <td>0</td>\n",
              "      <td>1</td>\n",
              "      <td>0</td>\n",
              "      <td>1</td>\n",
              "      <td>0</td>\n",
              "    </tr>\n",
              "    <tr>\n",
              "      <th>4</th>\n",
              "      <td>24.0</td>\n",
              "      <td>4870.0</td>\n",
              "      <td>3.0</td>\n",
              "      <td>4.0</td>\n",
              "      <td>53.0</td>\n",
              "      <td>2.0</td>\n",
              "      <td>2.0</td>\n",
              "      <td>1</td>\n",
              "      <td>0</td>\n",
              "      <td>0</td>\n",
              "      <td>...</td>\n",
              "      <td>0</td>\n",
              "      <td>1</td>\n",
              "      <td>0</td>\n",
              "      <td>0</td>\n",
              "      <td>1</td>\n",
              "      <td>0</td>\n",
              "      <td>1</td>\n",
              "      <td>0</td>\n",
              "      <td>1</td>\n",
              "      <td>0</td>\n",
              "    </tr>\n",
              "  </tbody>\n",
              "</table>\n",
              "<p>5 rows × 63 columns</p>\n",
              "</div>\n",
              "      <button class=\"colab-df-convert\" onclick=\"convertToInteractive('df-4fb50aef-f74e-492a-ad04-23f7de95bd8a')\"\n",
              "              title=\"Convert this dataframe to an interactive table.\"\n",
              "              style=\"display:none;\">\n",
              "        \n",
              "  <svg xmlns=\"http://www.w3.org/2000/svg\" height=\"24px\"viewBox=\"0 0 24 24\"\n",
              "       width=\"24px\">\n",
              "    <path d=\"M0 0h24v24H0V0z\" fill=\"none\"/>\n",
              "    <path d=\"M18.56 5.44l.94 2.06.94-2.06 2.06-.94-2.06-.94-.94-2.06-.94 2.06-2.06.94zm-11 1L8.5 8.5l.94-2.06 2.06-.94-2.06-.94L8.5 2.5l-.94 2.06-2.06.94zm10 10l.94 2.06.94-2.06 2.06-.94-2.06-.94-.94-2.06-.94 2.06-2.06.94z\"/><path d=\"M17.41 7.96l-1.37-1.37c-.4-.4-.92-.59-1.43-.59-.52 0-1.04.2-1.43.59L10.3 9.45l-7.72 7.72c-.78.78-.78 2.05 0 2.83L4 21.41c.39.39.9.59 1.41.59.51 0 1.02-.2 1.41-.59l7.78-7.78 2.81-2.81c.8-.78.8-2.07 0-2.86zM5.41 20L4 18.59l7.72-7.72 1.47 1.35L5.41 20z\"/>\n",
              "  </svg>\n",
              "      </button>\n",
              "      \n",
              "  <style>\n",
              "    .colab-df-container {\n",
              "      display:flex;\n",
              "      flex-wrap:wrap;\n",
              "      gap: 12px;\n",
              "    }\n",
              "\n",
              "    .colab-df-convert {\n",
              "      background-color: #E8F0FE;\n",
              "      border: none;\n",
              "      border-radius: 50%;\n",
              "      cursor: pointer;\n",
              "      display: none;\n",
              "      fill: #1967D2;\n",
              "      height: 32px;\n",
              "      padding: 0 0 0 0;\n",
              "      width: 32px;\n",
              "    }\n",
              "\n",
              "    .colab-df-convert:hover {\n",
              "      background-color: #E2EBFA;\n",
              "      box-shadow: 0px 1px 2px rgba(60, 64, 67, 0.3), 0px 1px 3px 1px rgba(60, 64, 67, 0.15);\n",
              "      fill: #174EA6;\n",
              "    }\n",
              "\n",
              "    [theme=dark] .colab-df-convert {\n",
              "      background-color: #3B4455;\n",
              "      fill: #D2E3FC;\n",
              "    }\n",
              "\n",
              "    [theme=dark] .colab-df-convert:hover {\n",
              "      background-color: #434B5C;\n",
              "      box-shadow: 0px 1px 3px 1px rgba(0, 0, 0, 0.15);\n",
              "      filter: drop-shadow(0px 1px 2px rgba(0, 0, 0, 0.3));\n",
              "      fill: #FFFFFF;\n",
              "    }\n",
              "  </style>\n",
              "\n",
              "      <script>\n",
              "        const buttonEl =\n",
              "          document.querySelector('#df-4fb50aef-f74e-492a-ad04-23f7de95bd8a button.colab-df-convert');\n",
              "        buttonEl.style.display =\n",
              "          google.colab.kernel.accessAllowed ? 'block' : 'none';\n",
              "\n",
              "        async function convertToInteractive(key) {\n",
              "          const element = document.querySelector('#df-4fb50aef-f74e-492a-ad04-23f7de95bd8a');\n",
              "          const dataTable =\n",
              "            await google.colab.kernel.invokeFunction('convertToInteractive',\n",
              "                                                     [key], {});\n",
              "          if (!dataTable) return;\n",
              "\n",
              "          const docLinkHtml = 'Like what you see? Visit the ' +\n",
              "            '<a target=\"_blank\" href=https://colab.research.google.com/notebooks/data_table.ipynb>data table notebook</a>'\n",
              "            + ' to learn more about interactive tables.';\n",
              "          element.innerHTML = '';\n",
              "          dataTable['output_type'] = 'display_data';\n",
              "          await google.colab.output.renderOutput(dataTable, element);\n",
              "          const docLink = document.createElement('div');\n",
              "          docLink.innerHTML = docLinkHtml;\n",
              "          element.appendChild(docLink);\n",
              "        }\n",
              "      </script>\n",
              "    </div>\n",
              "  </div>\n",
              "  "
            ]
          },
          "metadata": {},
          "execution_count": 14
        }
      ]
    },
    {
      "cell_type": "code",
      "source": [
        "# Посмотрим, как преобразились наши данные\n",
        "predictors_home.info()"
      ],
      "metadata": {
        "colab": {
          "base_uri": "https://localhost:8080/"
        },
        "id": "yxO0pOv6rhV1",
        "outputId": "cb2a19d9-8a8d-416a-c0e6-4333dbd34684"
      },
      "execution_count": null,
      "outputs": [
        {
          "output_type": "stream",
          "name": "stdout",
          "text": [
            "<class 'pandas.core.frame.DataFrame'>\n",
            "RangeIndex: 1000 entries, 0 to 999\n",
            "Data columns (total 63 columns):\n",
            " #   Column                                         Non-Null Count  Dtype  \n",
            "---  ------                                         --------------  -----  \n",
            " 0   duration                                       1000 non-null   float64\n",
            " 1   credit_amount                                  1000 non-null   float64\n",
            " 2   installment_commitment                         1000 non-null   float64\n",
            " 3   residence_since                                1000 non-null   float64\n",
            " 4   age                                            1000 non-null   float64\n",
            " 5   existing_credits                               1000 non-null   float64\n",
            " 6   num_dependents                                 1000 non-null   float64\n",
            " 7   checking_status_<0                             1000 non-null   uint8  \n",
            " 8   checking_status_0<=X<200                       1000 non-null   uint8  \n",
            " 9   checking_status_>=200                          1000 non-null   uint8  \n",
            " 10  checking_status_no checking                    1000 non-null   uint8  \n",
            " 11  credit_history_no credits/all paid             1000 non-null   uint8  \n",
            " 12  credit_history_all paid                        1000 non-null   uint8  \n",
            " 13  credit_history_existing paid                   1000 non-null   uint8  \n",
            " 14  credit_history_delayed previously              1000 non-null   uint8  \n",
            " 15  credit_history_critical/other existing credit  1000 non-null   uint8  \n",
            " 16  purpose_new car                                1000 non-null   uint8  \n",
            " 17  purpose_used car                               1000 non-null   uint8  \n",
            " 18  purpose_furniture/equipment                    1000 non-null   uint8  \n",
            " 19  purpose_radio/tv                               1000 non-null   uint8  \n",
            " 20  purpose_domestic appliance                     1000 non-null   uint8  \n",
            " 21  purpose_repairs                                1000 non-null   uint8  \n",
            " 22  purpose_education                              1000 non-null   uint8  \n",
            " 23  purpose_vacation                               1000 non-null   uint8  \n",
            " 24  purpose_retraining                             1000 non-null   uint8  \n",
            " 25  purpose_business                               1000 non-null   uint8  \n",
            " 26  purpose_other                                  1000 non-null   uint8  \n",
            " 27  savings_status_<100                            1000 non-null   uint8  \n",
            " 28  savings_status_100<=X<500                      1000 non-null   uint8  \n",
            " 29  savings_status_500<=X<1000                     1000 non-null   uint8  \n",
            " 30  savings_status_>=1000                          1000 non-null   uint8  \n",
            " 31  savings_status_no known savings                1000 non-null   uint8  \n",
            " 32  employment_unemployed                          1000 non-null   uint8  \n",
            " 33  employment_<1                                  1000 non-null   uint8  \n",
            " 34  employment_1<=X<4                              1000 non-null   uint8  \n",
            " 35  employment_4<=X<7                              1000 non-null   uint8  \n",
            " 36  employment_>=7                                 1000 non-null   uint8  \n",
            " 37  personal_status_male div/sep                   1000 non-null   uint8  \n",
            " 38  personal_status_female div/dep/mar             1000 non-null   uint8  \n",
            " 39  personal_status_male single                    1000 non-null   uint8  \n",
            " 40  personal_status_male mar/wid                   1000 non-null   uint8  \n",
            " 41  personal_status_female single                  1000 non-null   uint8  \n",
            " 42  other_parties_none                             1000 non-null   uint8  \n",
            " 43  other_parties_co applicant                     1000 non-null   uint8  \n",
            " 44  other_parties_guarantor                        1000 non-null   uint8  \n",
            " 45  property_magnitude_real estate                 1000 non-null   uint8  \n",
            " 46  property_magnitude_life insurance              1000 non-null   uint8  \n",
            " 47  property_magnitude_car                         1000 non-null   uint8  \n",
            " 48  property_magnitude_no known property           1000 non-null   uint8  \n",
            " 49  other_payment_plans_bank                       1000 non-null   uint8  \n",
            " 50  other_payment_plans_stores                     1000 non-null   uint8  \n",
            " 51  other_payment_plans_none                       1000 non-null   uint8  \n",
            " 52  housing_rent                                   1000 non-null   uint8  \n",
            " 53  housing_own                                    1000 non-null   uint8  \n",
            " 54  housing_for free                               1000 non-null   uint8  \n",
            " 55  job_unemp/unskilled non res                    1000 non-null   uint8  \n",
            " 56  job_unskilled resident                         1000 non-null   uint8  \n",
            " 57  job_skilled                                    1000 non-null   uint8  \n",
            " 58  job_high qualif/self emp/mgmt                  1000 non-null   uint8  \n",
            " 59  own_telephone_none                             1000 non-null   uint8  \n",
            " 60  own_telephone_yes                              1000 non-null   uint8  \n",
            " 61  foreign_worker_yes                             1000 non-null   uint8  \n",
            " 62  foreign_worker_no                              1000 non-null   uint8  \n",
            "dtypes: float64(7), uint8(56)\n",
            "memory usage: 109.5 KB\n"
          ]
        }
      ]
    },
    {
      "cell_type": "code",
      "source": [
        "# Смотрим наличие корреляции в атрибутах с целевым столбцом. Нас интересует модуль корреляции.\n",
        "# Но при этом линейно-зависимые признаки нам не сильно мешают в регрессии (мешают в классификации)\n",
        "corr_pr_home = abs(predictors_home.corr().iloc[0, 1:])"
      ],
      "metadata": {
        "id": "iXDDMBdhuQ6b"
      },
      "execution_count": null,
      "outputs": []
    }
  ]
}