{
  "nbformat": 4,
  "nbformat_minor": 0,
  "metadata": {
    "colab": {
      "name": "Credit_German.ipynb",
      "provenance": [],
      "collapsed_sections": [
        "I9OtJM5faVIe",
        "5-Rondg7lcKR",
        "V825CAexd0Qs",
        "3vJoy0aYgOxm"
      ],
      "authorship_tag": "ABX9TyOFpS5wxSb5rPZRZGeVy9Ip",
      "include_colab_link": true
    },
    "kernelspec": {
      "name": "python3",
      "display_name": "Python 3"
    },
    "language_info": {
      "name": "python"
    }
  },
  "cells": [
    {
      "cell_type": "markdown",
      "metadata": {
        "id": "view-in-github",
        "colab_type": "text"
      },
      "source": [
        "<a href=\"https://colab.research.google.com/github/graviada/DataScienceProjects/blob/main/Huawei%20(2022)/Credit_German.ipynb\" target=\"_parent\"><img src=\"https://colab.research.google.com/assets/colab-badge.svg\" alt=\"Open In Colab\"/></a>"
      ]
    },
    {
      "cell_type": "markdown",
      "source": [
        "# **Домашнее задание**\n",
        "### **Задача**:\n",
        "\n",
        "macro_avg = 0.75 и выше"
      ],
      "metadata": {
        "id": "xjlyK8rA0LaZ"
      }
    },
    {
      "cell_type": "code",
      "source": [
        "import numpy as np\n",
        "import pandas as pd\n",
        "import matplotlib.pyplot as plt\n",
        "\n",
        "plt.style.use('ggplot')     # Стиль графиков, можно закомментировать\n",
        "plt.rcParams['figure.figsize'] = (10, 7.5)              \n",
        "\n",
        "import torch\n",
        "import scipy.stats as ss\n",
        "import statsmodels.api as sm\n",
        "from seaborn import heatmap\n",
        "from sklearn.svm import SVC\n",
        "from sklearn.feature_selection import RFE\n",
        "from sklearn.neighbors import KNeighborsClassifier\n",
        "from sklearn.linear_model import LogisticRegression, LogisticRegressionCV\n",
        "\n",
        "import sklearn\n",
        "import sklearn.datasets as datasets\n",
        "from sklearn.model_selection import train_test_split, GridSearchCV\n",
        "from sklearn.metrics import f1_score, classification_report, confusion_matrix"
      ],
      "metadata": {
        "id": "SC8frUy40P4q"
      },
      "execution_count": 57,
      "outputs": []
    },
    {
      "cell_type": "markdown",
      "source": [
        "### **Изучение датасета**"
      ],
      "metadata": {
        "id": "I9OtJM5faVIe"
      }
    },
    {
      "cell_type": "code",
      "source": [
        "data_home = datasets.fetch_openml(name='credit-g')       # Загрузка датасета с OpenML"
      ],
      "metadata": {
        "id": "5wYoxdQk0nie"
      },
      "execution_count": 58,
      "outputs": []
    },
    {
      "cell_type": "code",
      "source": [
        "Predictors_home = data_home.get('data')\n",
        "Target_home = data_home.get('target')"
      ],
      "metadata": {
        "id": "8ZmCAhG75g0b"
      },
      "execution_count": 59,
      "outputs": []
    },
    {
      "cell_type": "markdown",
      "source": [
        "**Описание атрибутов датасета**\n",
        "\n",
        "        - checking_status         Состояние существующего расчетного счета в немецких марках\n",
        "        - duration                Промежуток, на который брался счет в месяцах\n",
        "        - credit_history          Кредитная история (взятые кредиты, своевременно погашенные, просрочки, критические счета)\n",
        "        - purpose                 Цель кредита (автомобиль, телевизор, др.)\n",
        "        - credit_amount           Сумма кредита\n",
        "        - savings_status          Состояние сберегательного счета/облигаций в немецких марках\n",
        "        - employment              Текущая занятость, количество лет в виде промежутка\n",
        "        - installment_commitment  Ставка рассрочки в процентах от располагаемого дохода\n",
        "        - personal_status         Личный статус (замужем, холост, др.) и пол\n",
        "        - other_parties           Прочие должники/поручители\n",
        "        - residence_since         Настоящее место жительства с X лет (в годах)\n",
        "        - property_magnitude      Имущество (например, недвижимость)\n",
        "        - age                     Возраст в годах\n",
        "        - other_payment_plans     Другие виды рассрочки (банки, магазины)\n",
        "        - housing                 Жилье (аренда, собственное, др.)\n",
        "        - existing_credits        Количество существующих кредитов в этом банке\n",
        "        - job                     Работа\n",
        "        - num_dependents          Количество лиц, на которых возложена обязанность по содержанию\n",
        "        - own_telephone           Телефон (да, нет)\n",
        "        - foreign_worker          Иностранный работник (да, нет)"
      ],
      "metadata": {
        "id": "sxg85rIBa8Ht"
      }
    },
    {
      "cell_type": "code",
      "source": [
        "Predictors_home.describe()"
      ],
      "metadata": {
        "colab": {
          "base_uri": "https://localhost:8080/",
          "height": 0
        },
        "id": "FuPJbsfw6Hex",
        "outputId": "e03daca4-2638-4c88-b8fa-c9324ab58128"
      },
      "execution_count": 60,
      "outputs": [
        {
          "output_type": "execute_result",
          "data": {
            "text/plain": [
              "          duration  credit_amount  installment_commitment  residence_since  \\\n",
              "count  1000.000000    1000.000000             1000.000000      1000.000000   \n",
              "mean     20.903000    3271.258000                2.973000         2.845000   \n",
              "std      12.058814    2822.736876                1.118715         1.103718   \n",
              "min       4.000000     250.000000                1.000000         1.000000   \n",
              "25%      12.000000    1365.500000                2.000000         2.000000   \n",
              "50%      18.000000    2319.500000                3.000000         3.000000   \n",
              "75%      24.000000    3972.250000                4.000000         4.000000   \n",
              "max      72.000000   18424.000000                4.000000         4.000000   \n",
              "\n",
              "               age  existing_credits  num_dependents  \n",
              "count  1000.000000       1000.000000     1000.000000  \n",
              "mean     35.546000          1.407000        1.155000  \n",
              "std      11.375469          0.577654        0.362086  \n",
              "min      19.000000          1.000000        1.000000  \n",
              "25%      27.000000          1.000000        1.000000  \n",
              "50%      33.000000          1.000000        1.000000  \n",
              "75%      42.000000          2.000000        1.000000  \n",
              "max      75.000000          4.000000        2.000000  "
            ],
            "text/html": [
              "\n",
              "  <div id=\"df-bbf26bdb-0735-499f-a994-98f4d6c89f12\">\n",
              "    <div class=\"colab-df-container\">\n",
              "      <div>\n",
              "<style scoped>\n",
              "    .dataframe tbody tr th:only-of-type {\n",
              "        vertical-align: middle;\n",
              "    }\n",
              "\n",
              "    .dataframe tbody tr th {\n",
              "        vertical-align: top;\n",
              "    }\n",
              "\n",
              "    .dataframe thead th {\n",
              "        text-align: right;\n",
              "    }\n",
              "</style>\n",
              "<table border=\"1\" class=\"dataframe\">\n",
              "  <thead>\n",
              "    <tr style=\"text-align: right;\">\n",
              "      <th></th>\n",
              "      <th>duration</th>\n",
              "      <th>credit_amount</th>\n",
              "      <th>installment_commitment</th>\n",
              "      <th>residence_since</th>\n",
              "      <th>age</th>\n",
              "      <th>existing_credits</th>\n",
              "      <th>num_dependents</th>\n",
              "    </tr>\n",
              "  </thead>\n",
              "  <tbody>\n",
              "    <tr>\n",
              "      <th>count</th>\n",
              "      <td>1000.000000</td>\n",
              "      <td>1000.000000</td>\n",
              "      <td>1000.000000</td>\n",
              "      <td>1000.000000</td>\n",
              "      <td>1000.000000</td>\n",
              "      <td>1000.000000</td>\n",
              "      <td>1000.000000</td>\n",
              "    </tr>\n",
              "    <tr>\n",
              "      <th>mean</th>\n",
              "      <td>20.903000</td>\n",
              "      <td>3271.258000</td>\n",
              "      <td>2.973000</td>\n",
              "      <td>2.845000</td>\n",
              "      <td>35.546000</td>\n",
              "      <td>1.407000</td>\n",
              "      <td>1.155000</td>\n",
              "    </tr>\n",
              "    <tr>\n",
              "      <th>std</th>\n",
              "      <td>12.058814</td>\n",
              "      <td>2822.736876</td>\n",
              "      <td>1.118715</td>\n",
              "      <td>1.103718</td>\n",
              "      <td>11.375469</td>\n",
              "      <td>0.577654</td>\n",
              "      <td>0.362086</td>\n",
              "    </tr>\n",
              "    <tr>\n",
              "      <th>min</th>\n",
              "      <td>4.000000</td>\n",
              "      <td>250.000000</td>\n",
              "      <td>1.000000</td>\n",
              "      <td>1.000000</td>\n",
              "      <td>19.000000</td>\n",
              "      <td>1.000000</td>\n",
              "      <td>1.000000</td>\n",
              "    </tr>\n",
              "    <tr>\n",
              "      <th>25%</th>\n",
              "      <td>12.000000</td>\n",
              "      <td>1365.500000</td>\n",
              "      <td>2.000000</td>\n",
              "      <td>2.000000</td>\n",
              "      <td>27.000000</td>\n",
              "      <td>1.000000</td>\n",
              "      <td>1.000000</td>\n",
              "    </tr>\n",
              "    <tr>\n",
              "      <th>50%</th>\n",
              "      <td>18.000000</td>\n",
              "      <td>2319.500000</td>\n",
              "      <td>3.000000</td>\n",
              "      <td>3.000000</td>\n",
              "      <td>33.000000</td>\n",
              "      <td>1.000000</td>\n",
              "      <td>1.000000</td>\n",
              "    </tr>\n",
              "    <tr>\n",
              "      <th>75%</th>\n",
              "      <td>24.000000</td>\n",
              "      <td>3972.250000</td>\n",
              "      <td>4.000000</td>\n",
              "      <td>4.000000</td>\n",
              "      <td>42.000000</td>\n",
              "      <td>2.000000</td>\n",
              "      <td>1.000000</td>\n",
              "    </tr>\n",
              "    <tr>\n",
              "      <th>max</th>\n",
              "      <td>72.000000</td>\n",
              "      <td>18424.000000</td>\n",
              "      <td>4.000000</td>\n",
              "      <td>4.000000</td>\n",
              "      <td>75.000000</td>\n",
              "      <td>4.000000</td>\n",
              "      <td>2.000000</td>\n",
              "    </tr>\n",
              "  </tbody>\n",
              "</table>\n",
              "</div>\n",
              "      <button class=\"colab-df-convert\" onclick=\"convertToInteractive('df-bbf26bdb-0735-499f-a994-98f4d6c89f12')\"\n",
              "              title=\"Convert this dataframe to an interactive table.\"\n",
              "              style=\"display:none;\">\n",
              "        \n",
              "  <svg xmlns=\"http://www.w3.org/2000/svg\" height=\"24px\"viewBox=\"0 0 24 24\"\n",
              "       width=\"24px\">\n",
              "    <path d=\"M0 0h24v24H0V0z\" fill=\"none\"/>\n",
              "    <path d=\"M18.56 5.44l.94 2.06.94-2.06 2.06-.94-2.06-.94-.94-2.06-.94 2.06-2.06.94zm-11 1L8.5 8.5l.94-2.06 2.06-.94-2.06-.94L8.5 2.5l-.94 2.06-2.06.94zm10 10l.94 2.06.94-2.06 2.06-.94-2.06-.94-.94-2.06-.94 2.06-2.06.94z\"/><path d=\"M17.41 7.96l-1.37-1.37c-.4-.4-.92-.59-1.43-.59-.52 0-1.04.2-1.43.59L10.3 9.45l-7.72 7.72c-.78.78-.78 2.05 0 2.83L4 21.41c.39.39.9.59 1.41.59.51 0 1.02-.2 1.41-.59l7.78-7.78 2.81-2.81c.8-.78.8-2.07 0-2.86zM5.41 20L4 18.59l7.72-7.72 1.47 1.35L5.41 20z\"/>\n",
              "  </svg>\n",
              "      </button>\n",
              "      \n",
              "  <style>\n",
              "    .colab-df-container {\n",
              "      display:flex;\n",
              "      flex-wrap:wrap;\n",
              "      gap: 12px;\n",
              "    }\n",
              "\n",
              "    .colab-df-convert {\n",
              "      background-color: #E8F0FE;\n",
              "      border: none;\n",
              "      border-radius: 50%;\n",
              "      cursor: pointer;\n",
              "      display: none;\n",
              "      fill: #1967D2;\n",
              "      height: 32px;\n",
              "      padding: 0 0 0 0;\n",
              "      width: 32px;\n",
              "    }\n",
              "\n",
              "    .colab-df-convert:hover {\n",
              "      background-color: #E2EBFA;\n",
              "      box-shadow: 0px 1px 2px rgba(60, 64, 67, 0.3), 0px 1px 3px 1px rgba(60, 64, 67, 0.15);\n",
              "      fill: #174EA6;\n",
              "    }\n",
              "\n",
              "    [theme=dark] .colab-df-convert {\n",
              "      background-color: #3B4455;\n",
              "      fill: #D2E3FC;\n",
              "    }\n",
              "\n",
              "    [theme=dark] .colab-df-convert:hover {\n",
              "      background-color: #434B5C;\n",
              "      box-shadow: 0px 1px 3px 1px rgba(0, 0, 0, 0.15);\n",
              "      filter: drop-shadow(0px 1px 2px rgba(0, 0, 0, 0.3));\n",
              "      fill: #FFFFFF;\n",
              "    }\n",
              "  </style>\n",
              "\n",
              "      <script>\n",
              "        const buttonEl =\n",
              "          document.querySelector('#df-bbf26bdb-0735-499f-a994-98f4d6c89f12 button.colab-df-convert');\n",
              "        buttonEl.style.display =\n",
              "          google.colab.kernel.accessAllowed ? 'block' : 'none';\n",
              "\n",
              "        async function convertToInteractive(key) {\n",
              "          const element = document.querySelector('#df-bbf26bdb-0735-499f-a994-98f4d6c89f12');\n",
              "          const dataTable =\n",
              "            await google.colab.kernel.invokeFunction('convertToInteractive',\n",
              "                                                     [key], {});\n",
              "          if (!dataTable) return;\n",
              "\n",
              "          const docLinkHtml = 'Like what you see? Visit the ' +\n",
              "            '<a target=\"_blank\" href=https://colab.research.google.com/notebooks/data_table.ipynb>data table notebook</a>'\n",
              "            + ' to learn more about interactive tables.';\n",
              "          element.innerHTML = '';\n",
              "          dataTable['output_type'] = 'display_data';\n",
              "          await google.colab.output.renderOutput(dataTable, element);\n",
              "          const docLink = document.createElement('div');\n",
              "          docLink.innerHTML = docLinkHtml;\n",
              "          element.appendChild(docLink);\n",
              "        }\n",
              "      </script>\n",
              "    </div>\n",
              "  </div>\n",
              "  "
            ]
          },
          "metadata": {},
          "execution_count": 60
        }
      ]
    },
    {
      "cell_type": "code",
      "source": [
        "Predictors_home.employment.cat.categories"
      ],
      "metadata": {
        "colab": {
          "base_uri": "https://localhost:8080/"
        },
        "id": "Iaowk_nKkXad",
        "outputId": "67b35883-9751-47c2-d0fc-dca56401230c"
      },
      "execution_count": 61,
      "outputs": [
        {
          "output_type": "execute_result",
          "data": {
            "text/plain": [
              "Index(['unemployed', '<1', '1<=X<4', '4<=X<7', '>=7'], dtype='object')"
            ]
          },
          "metadata": {},
          "execution_count": 61
        }
      ]
    },
    {
      "cell_type": "code",
      "source": [
        "Predictors_home.personal_status.cat.categories"
      ],
      "metadata": {
        "colab": {
          "base_uri": "https://localhost:8080/"
        },
        "id": "igBYl2DFkrg3",
        "outputId": "0628a19e-235d-4d1a-a1c1-2a14ef0e84f4"
      },
      "execution_count": 62,
      "outputs": [
        {
          "output_type": "execute_result",
          "data": {
            "text/plain": [
              "Index(['male div/sep', 'female div/dep/mar', 'male single', 'male mar/wid',\n",
              "       'female single'],\n",
              "      dtype='object')"
            ]
          },
          "metadata": {},
          "execution_count": 62
        }
      ]
    },
    {
      "cell_type": "code",
      "source": [
        "Predictors_home.other_parties.cat.categories"
      ],
      "metadata": {
        "colab": {
          "base_uri": "https://localhost:8080/"
        },
        "id": "ICP3yfXrk2sT",
        "outputId": "fd815d44-9d7f-4c71-d2b8-1845e6372109"
      },
      "execution_count": 63,
      "outputs": [
        {
          "output_type": "execute_result",
          "data": {
            "text/plain": [
              "Index(['none', 'co applicant', 'guarantor'], dtype='object')"
            ]
          },
          "metadata": {},
          "execution_count": 63
        }
      ]
    },
    {
      "cell_type": "code",
      "source": [
        "Predictors_home.residence_since.infer_objects"
      ],
      "metadata": {
        "colab": {
          "base_uri": "https://localhost:8080/"
        },
        "id": "3pTelXFMlCXZ",
        "outputId": "e0d939cf-0516-43ee-ea10-4c4adfd55ba7"
      },
      "execution_count": 64,
      "outputs": [
        {
          "output_type": "execute_result",
          "data": {
            "text/plain": [
              "<bound method NDFrame.infer_objects of 0      4.0\n",
              "1      2.0\n",
              "2      3.0\n",
              "3      4.0\n",
              "4      4.0\n",
              "      ... \n",
              "995    4.0\n",
              "996    4.0\n",
              "997    4.0\n",
              "998    4.0\n",
              "999    4.0\n",
              "Name: residence_since, Length: 1000, dtype: float64>"
            ]
          },
          "metadata": {},
          "execution_count": 64
        }
      ]
    },
    {
      "cell_type": "markdown",
      "source": [
        "С помощью функции info() посмотрим краткое описание данных. Нас будут интересовать размер датасета, тип данных, наличие нулевых (NaN) значений."
      ],
      "metadata": {
        "id": "Yb-7pTxHalBo"
      }
    },
    {
      "cell_type": "code",
      "source": [
        "Predictors_home.info()"
      ],
      "metadata": {
        "colab": {
          "base_uri": "https://localhost:8080/"
        },
        "id": "Ly1cYrHfZn4x",
        "outputId": "c0006e71-14c7-4d5c-dbb1-a018fc44c233"
      },
      "execution_count": 65,
      "outputs": [
        {
          "output_type": "stream",
          "name": "stdout",
          "text": [
            "<class 'pandas.core.frame.DataFrame'>\n",
            "RangeIndex: 1000 entries, 0 to 999\n",
            "Data columns (total 20 columns):\n",
            " #   Column                  Non-Null Count  Dtype   \n",
            "---  ------                  --------------  -----   \n",
            " 0   checking_status         1000 non-null   category\n",
            " 1   duration                1000 non-null   float64 \n",
            " 2   credit_history          1000 non-null   category\n",
            " 3   purpose                 1000 non-null   category\n",
            " 4   credit_amount           1000 non-null   float64 \n",
            " 5   savings_status          1000 non-null   category\n",
            " 6   employment              1000 non-null   category\n",
            " 7   installment_commitment  1000 non-null   float64 \n",
            " 8   personal_status         1000 non-null   category\n",
            " 9   other_parties           1000 non-null   category\n",
            " 10  residence_since         1000 non-null   float64 \n",
            " 11  property_magnitude      1000 non-null   category\n",
            " 12  age                     1000 non-null   float64 \n",
            " 13  other_payment_plans     1000 non-null   category\n",
            " 14  housing                 1000 non-null   category\n",
            " 15  existing_credits        1000 non-null   float64 \n",
            " 16  job                     1000 non-null   category\n",
            " 17  num_dependents          1000 non-null   float64 \n",
            " 18  own_telephone           1000 non-null   category\n",
            " 19  foreign_worker          1000 non-null   category\n",
            "dtypes: category(13), float64(7)\n",
            "memory usage: 69.9 KB\n"
          ]
        }
      ]
    },
    {
      "cell_type": "code",
      "source": [
        "Target_home.infer_objects"
      ],
      "metadata": {
        "colab": {
          "base_uri": "https://localhost:8080/"
        },
        "id": "lwC-nztvcwob",
        "outputId": "d5f3fc3e-6ebd-4f96-90cc-06f9de43a8f9"
      },
      "execution_count": 66,
      "outputs": [
        {
          "output_type": "execute_result",
          "data": {
            "text/plain": [
              "<bound method NDFrame.infer_objects of 0      good\n",
              "1       bad\n",
              "2      good\n",
              "3      good\n",
              "4       bad\n",
              "       ... \n",
              "995    good\n",
              "996    good\n",
              "997    good\n",
              "998     bad\n",
              "999    good\n",
              "Name: class, Length: 1000, dtype: category\n",
              "Categories (2, object): ['good', 'bad']>"
            ]
          },
          "metadata": {},
          "execution_count": 66
        }
      ]
    },
    {
      "cell_type": "code",
      "source": [
        "sum(Target_home.isna())"
      ],
      "metadata": {
        "colab": {
          "base_uri": "https://localhost:8080/"
        },
        "id": "HQQx-q1Cd1oX",
        "outputId": "e636cc9c-1c65-42ee-fc8e-28cb64500948"
      },
      "execution_count": 67,
      "outputs": [
        {
          "output_type": "execute_result",
          "data": {
            "text/plain": [
              "0"
            ]
          },
          "metadata": {},
          "execution_count": 67
        }
      ]
    },
    {
      "cell_type": "code",
      "source": [
        "# Составим словарь, в котором ключами будут являться типы данных в датафрейме, а значениями - названия колонок\n",
        "category_dict = Predictors_home.columns.groupby(Predictors_home.dtypes)\n",
        "category_dict"
      ],
      "metadata": {
        "colab": {
          "base_uri": "https://localhost:8080/"
        },
        "id": "Sf_kaZQYmftl",
        "outputId": "c5ccab84-027b-422d-ee13-29c9a22f2c2d"
      },
      "execution_count": 68,
      "outputs": [
        {
          "output_type": "execute_result",
          "data": {
            "text/plain": [
              "{category: ['checking_status'], float64: ['duration', 'credit_amount', 'installment_commitment', 'residence_since', 'age', 'existing_credits', 'num_dependents'], category: ['credit_history'], category: ['purpose'], category: ['savings_status'], category: ['employment'], category: ['personal_status'], category: ['other_parties'], category: ['property_magnitude'], category: ['other_payment_plans'], category: ['housing'], category: ['job'], category: ['own_telephone'], category: ['foreign_worker']}"
            ]
          },
          "metadata": {},
          "execution_count": 68
        }
      ]
    },
    {
      "cell_type": "code",
      "source": [
        "categories = ['checking_status', 'credit_history', 'purpose',\n",
        "                                'savings_status', 'employment', 'personal_status',\n",
        "                                'other_parties', 'property_magnitude', 'other_payment_plans',\n",
        "                                'housing', 'job', 'own_telephone', 'foreign_worker']"
      ],
      "metadata": {
        "id": "qF6AHWcyxvb4"
      },
      "execution_count": 69,
      "outputs": []
    },
    {
      "cell_type": "markdown",
      "source": [
        "**Итог:**\n",
        "\n",
        "Размер набора примеров: 1000\n",
        "\n",
        "Количество признаков: 21\n",
        "\n",
        "Количество пропущенных значений: 0\n",
        "\n",
        "Категориальных типов: 13"
      ],
      "metadata": {
        "id": "iElBc8cKcd8Y"
      }
    },
    {
      "cell_type": "code",
      "source": [
        "concat_home = pd.concat([Predictors_home, Target_home], axis=1)\n",
        "concat_home.groupby('class').mean()"
      ],
      "metadata": {
        "colab": {
          "base_uri": "https://localhost:8080/",
          "height": 0
        },
        "id": "YOO2_lyzmQur",
        "outputId": "e52f3b81-6623-4eee-dfac-54ec367bb03f"
      },
      "execution_count": 70,
      "outputs": [
        {
          "output_type": "execute_result",
          "data": {
            "text/plain": [
              "        duration  credit_amount  installment_commitment  residence_since  \\\n",
              "class                                                                      \n",
              "good   19.207143    2985.457143                2.920000         2.842857   \n",
              "bad    24.860000    3938.126667                3.096667         2.850000   \n",
              "\n",
              "             age  existing_credits  num_dependents  \n",
              "class                                               \n",
              "good   36.224286          1.424286        1.155714  \n",
              "bad    33.963333          1.366667        1.153333  "
            ],
            "text/html": [
              "\n",
              "  <div id=\"df-84d1587c-0e9e-4bbd-827d-80d6d2b9c0a7\">\n",
              "    <div class=\"colab-df-container\">\n",
              "      <div>\n",
              "<style scoped>\n",
              "    .dataframe tbody tr th:only-of-type {\n",
              "        vertical-align: middle;\n",
              "    }\n",
              "\n",
              "    .dataframe tbody tr th {\n",
              "        vertical-align: top;\n",
              "    }\n",
              "\n",
              "    .dataframe thead th {\n",
              "        text-align: right;\n",
              "    }\n",
              "</style>\n",
              "<table border=\"1\" class=\"dataframe\">\n",
              "  <thead>\n",
              "    <tr style=\"text-align: right;\">\n",
              "      <th></th>\n",
              "      <th>duration</th>\n",
              "      <th>credit_amount</th>\n",
              "      <th>installment_commitment</th>\n",
              "      <th>residence_since</th>\n",
              "      <th>age</th>\n",
              "      <th>existing_credits</th>\n",
              "      <th>num_dependents</th>\n",
              "    </tr>\n",
              "    <tr>\n",
              "      <th>class</th>\n",
              "      <th></th>\n",
              "      <th></th>\n",
              "      <th></th>\n",
              "      <th></th>\n",
              "      <th></th>\n",
              "      <th></th>\n",
              "      <th></th>\n",
              "    </tr>\n",
              "  </thead>\n",
              "  <tbody>\n",
              "    <tr>\n",
              "      <th>good</th>\n",
              "      <td>19.207143</td>\n",
              "      <td>2985.457143</td>\n",
              "      <td>2.920000</td>\n",
              "      <td>2.842857</td>\n",
              "      <td>36.224286</td>\n",
              "      <td>1.424286</td>\n",
              "      <td>1.155714</td>\n",
              "    </tr>\n",
              "    <tr>\n",
              "      <th>bad</th>\n",
              "      <td>24.860000</td>\n",
              "      <td>3938.126667</td>\n",
              "      <td>3.096667</td>\n",
              "      <td>2.850000</td>\n",
              "      <td>33.963333</td>\n",
              "      <td>1.366667</td>\n",
              "      <td>1.153333</td>\n",
              "    </tr>\n",
              "  </tbody>\n",
              "</table>\n",
              "</div>\n",
              "      <button class=\"colab-df-convert\" onclick=\"convertToInteractive('df-84d1587c-0e9e-4bbd-827d-80d6d2b9c0a7')\"\n",
              "              title=\"Convert this dataframe to an interactive table.\"\n",
              "              style=\"display:none;\">\n",
              "        \n",
              "  <svg xmlns=\"http://www.w3.org/2000/svg\" height=\"24px\"viewBox=\"0 0 24 24\"\n",
              "       width=\"24px\">\n",
              "    <path d=\"M0 0h24v24H0V0z\" fill=\"none\"/>\n",
              "    <path d=\"M18.56 5.44l.94 2.06.94-2.06 2.06-.94-2.06-.94-.94-2.06-.94 2.06-2.06.94zm-11 1L8.5 8.5l.94-2.06 2.06-.94-2.06-.94L8.5 2.5l-.94 2.06-2.06.94zm10 10l.94 2.06.94-2.06 2.06-.94-2.06-.94-.94-2.06-.94 2.06-2.06.94z\"/><path d=\"M17.41 7.96l-1.37-1.37c-.4-.4-.92-.59-1.43-.59-.52 0-1.04.2-1.43.59L10.3 9.45l-7.72 7.72c-.78.78-.78 2.05 0 2.83L4 21.41c.39.39.9.59 1.41.59.51 0 1.02-.2 1.41-.59l7.78-7.78 2.81-2.81c.8-.78.8-2.07 0-2.86zM5.41 20L4 18.59l7.72-7.72 1.47 1.35L5.41 20z\"/>\n",
              "  </svg>\n",
              "      </button>\n",
              "      \n",
              "  <style>\n",
              "    .colab-df-container {\n",
              "      display:flex;\n",
              "      flex-wrap:wrap;\n",
              "      gap: 12px;\n",
              "    }\n",
              "\n",
              "    .colab-df-convert {\n",
              "      background-color: #E8F0FE;\n",
              "      border: none;\n",
              "      border-radius: 50%;\n",
              "      cursor: pointer;\n",
              "      display: none;\n",
              "      fill: #1967D2;\n",
              "      height: 32px;\n",
              "      padding: 0 0 0 0;\n",
              "      width: 32px;\n",
              "    }\n",
              "\n",
              "    .colab-df-convert:hover {\n",
              "      background-color: #E2EBFA;\n",
              "      box-shadow: 0px 1px 2px rgba(60, 64, 67, 0.3), 0px 1px 3px 1px rgba(60, 64, 67, 0.15);\n",
              "      fill: #174EA6;\n",
              "    }\n",
              "\n",
              "    [theme=dark] .colab-df-convert {\n",
              "      background-color: #3B4455;\n",
              "      fill: #D2E3FC;\n",
              "    }\n",
              "\n",
              "    [theme=dark] .colab-df-convert:hover {\n",
              "      background-color: #434B5C;\n",
              "      box-shadow: 0px 1px 3px 1px rgba(0, 0, 0, 0.15);\n",
              "      filter: drop-shadow(0px 1px 2px rgba(0, 0, 0, 0.3));\n",
              "      fill: #FFFFFF;\n",
              "    }\n",
              "  </style>\n",
              "\n",
              "      <script>\n",
              "        const buttonEl =\n",
              "          document.querySelector('#df-84d1587c-0e9e-4bbd-827d-80d6d2b9c0a7 button.colab-df-convert');\n",
              "        buttonEl.style.display =\n",
              "          google.colab.kernel.accessAllowed ? 'block' : 'none';\n",
              "\n",
              "        async function convertToInteractive(key) {\n",
              "          const element = document.querySelector('#df-84d1587c-0e9e-4bbd-827d-80d6d2b9c0a7');\n",
              "          const dataTable =\n",
              "            await google.colab.kernel.invokeFunction('convertToInteractive',\n",
              "                                                     [key], {});\n",
              "          if (!dataTable) return;\n",
              "\n",
              "          const docLinkHtml = 'Like what you see? Visit the ' +\n",
              "            '<a target=\"_blank\" href=https://colab.research.google.com/notebooks/data_table.ipynb>data table notebook</a>'\n",
              "            + ' to learn more about interactive tables.';\n",
              "          element.innerHTML = '';\n",
              "          dataTable['output_type'] = 'display_data';\n",
              "          await google.colab.output.renderOutput(dataTable, element);\n",
              "          const docLink = document.createElement('div');\n",
              "          docLink.innerHTML = docLinkHtml;\n",
              "          element.appendChild(docLink);\n",
              "        }\n",
              "      </script>\n",
              "    </div>\n",
              "  </div>\n",
              "  "
            ]
          },
          "metadata": {},
          "execution_count": 70
        }
      ]
    },
    {
      "cell_type": "markdown",
      "source": [
        "**Наблюдения:**\n",
        "\n",
        "1. Дебиторы младше в среднем берут кредит на большую сумму и на больший срок и склонны не возвращать кредит.\n",
        "2. Более долгосрочный кредит имеет больше шансов быть невыплаченным.\n",
        "\n",
        "Посмотрим на влияние других категориальных переменных:"
      ],
      "metadata": {
        "id": "8DPAoI2yn9J4"
      }
    },
    {
      "cell_type": "code",
      "source": [
        "concat_home.age.hist()\n",
        "plt.title('Гистограмма возраста')\n",
        "plt.xlabel('Возраст')\n",
        "plt.ylabel('Частота')"
      ],
      "metadata": {
        "colab": {
          "base_uri": "https://localhost:8080/",
          "height": 0
        },
        "id": "ZXivVMSFxecB",
        "outputId": "e8fd18bd-c40a-4d3f-b6d4-28122cfb02d2"
      },
      "execution_count": 71,
      "outputs": [
        {
          "output_type": "execute_result",
          "data": {
            "text/plain": [
              "Text(0, 0.5, 'Частота')"
            ]
          },
          "metadata": {},
          "execution_count": 71
        },
        {
          "output_type": "display_data",
          "data": {
            "text/plain": [
              "<Figure size 720x540 with 1 Axes>"
            ],
            "image/png": "[encoded data removed]"
          },
          "metadata": {}
        }
      ]
    },
    {
      "cell_type": "markdown",
      "source": [
        "Большинство клиентов банка находится в возрасте от 25 до 35."
      ],
      "metadata": {
        "id": "OTYFhbXqxwF6"
      }
    },
    {
      "cell_type": "code",
      "source": [
        "concat_home.loc[(concat_home.age > 24) & (concat_home.age < 36)].groupby('class').mean()"
      ],
      "metadata": {
        "colab": {
          "base_uri": "https://localhost:8080/",
          "height": 0
        },
        "id": "FcaXwcXlx375",
        "outputId": "4bf64cc8-38c7-4118-9443-00283874eab1"
      },
      "execution_count": 72,
      "outputs": [
        {
          "output_type": "execute_result",
          "data": {
            "text/plain": [
              "        duration  credit_amount  installment_commitment  residence_since  \\\n",
              "class                                                                      \n",
              "good   20.192053    3091.311258                2.920530         2.403974   \n",
              "bad    24.058394    3715.956204                3.094891         2.576642   \n",
              "\n",
              "             age  existing_credits  num_dependents  \n",
              "class                                               \n",
              "good   29.817881          1.387417        1.125828  \n",
              "bad    29.321168          1.401460        1.087591  "
            ],
            "text/html": [
              "\n",
              "  <div id=\"df-c19cd951-9bf1-4e65-8f0b-60039bced434\">\n",
              "    <div class=\"colab-df-container\">\n",
              "      <div>\n",
              "<style scoped>\n",
              "    .dataframe tbody tr th:only-of-type {\n",
              "        vertical-align: middle;\n",
              "    }\n",
              "\n",
              "    .dataframe tbody tr th {\n",
              "        vertical-align: top;\n",
              "    }\n",
              "\n",
              "    .dataframe thead th {\n",
              "        text-align: right;\n",
              "    }\n",
              "</style>\n",
              "<table border=\"1\" class=\"dataframe\">\n",
              "  <thead>\n",
              "    <tr style=\"text-align: right;\">\n",
              "      <th></th>\n",
              "      <th>duration</th>\n",
              "      <th>credit_amount</th>\n",
              "      <th>installment_commitment</th>\n",
              "      <th>residence_since</th>\n",
              "      <th>age</th>\n",
              "      <th>existing_credits</th>\n",
              "      <th>num_dependents</th>\n",
              "    </tr>\n",
              "    <tr>\n",
              "      <th>class</th>\n",
              "      <th></th>\n",
              "      <th></th>\n",
              "      <th></th>\n",
              "      <th></th>\n",
              "      <th></th>\n",
              "      <th></th>\n",
              "      <th></th>\n",
              "    </tr>\n",
              "  </thead>\n",
              "  <tbody>\n",
              "    <tr>\n",
              "      <th>good</th>\n",
              "      <td>20.192053</td>\n",
              "      <td>3091.311258</td>\n",
              "      <td>2.920530</td>\n",
              "      <td>2.403974</td>\n",
              "      <td>29.817881</td>\n",
              "      <td>1.387417</td>\n",
              "      <td>1.125828</td>\n",
              "    </tr>\n",
              "    <tr>\n",
              "      <th>bad</th>\n",
              "      <td>24.058394</td>\n",
              "      <td>3715.956204</td>\n",
              "      <td>3.094891</td>\n",
              "      <td>2.576642</td>\n",
              "      <td>29.321168</td>\n",
              "      <td>1.401460</td>\n",
              "      <td>1.087591</td>\n",
              "    </tr>\n",
              "  </tbody>\n",
              "</table>\n",
              "</div>\n",
              "      <button class=\"colab-df-convert\" onclick=\"convertToInteractive('df-c19cd951-9bf1-4e65-8f0b-60039bced434')\"\n",
              "              title=\"Convert this dataframe to an interactive table.\"\n",
              "              style=\"display:none;\">\n",
              "        \n",
              "  <svg xmlns=\"http://www.w3.org/2000/svg\" height=\"24px\"viewBox=\"0 0 24 24\"\n",
              "       width=\"24px\">\n",
              "    <path d=\"M0 0h24v24H0V0z\" fill=\"none\"/>\n",
              "    <path d=\"M18.56 5.44l.94 2.06.94-2.06 2.06-.94-2.06-.94-.94-2.06-.94 2.06-2.06.94zm-11 1L8.5 8.5l.94-2.06 2.06-.94-2.06-.94L8.5 2.5l-.94 2.06-2.06.94zm10 10l.94 2.06.94-2.06 2.06-.94-2.06-.94-.94-2.06-.94 2.06-2.06.94z\"/><path d=\"M17.41 7.96l-1.37-1.37c-.4-.4-.92-.59-1.43-.59-.52 0-1.04.2-1.43.59L10.3 9.45l-7.72 7.72c-.78.78-.78 2.05 0 2.83L4 21.41c.39.39.9.59 1.41.59.51 0 1.02-.2 1.41-.59l7.78-7.78 2.81-2.81c.8-.78.8-2.07 0-2.86zM5.41 20L4 18.59l7.72-7.72 1.47 1.35L5.41 20z\"/>\n",
              "  </svg>\n",
              "      </button>\n",
              "      \n",
              "  <style>\n",
              "    .colab-df-container {\n",
              "      display:flex;\n",
              "      flex-wrap:wrap;\n",
              "      gap: 12px;\n",
              "    }\n",
              "\n",
              "    .colab-df-convert {\n",
              "      background-color: #E8F0FE;\n",
              "      border: none;\n",
              "      border-radius: 50%;\n",
              "      cursor: pointer;\n",
              "      display: none;\n",
              "      fill: #1967D2;\n",
              "      height: 32px;\n",
              "      padding: 0 0 0 0;\n",
              "      width: 32px;\n",
              "    }\n",
              "\n",
              "    .colab-df-convert:hover {\n",
              "      background-color: #E2EBFA;\n",
              "      box-shadow: 0px 1px 2px rgba(60, 64, 67, 0.3), 0px 1px 3px 1px rgba(60, 64, 67, 0.15);\n",
              "      fill: #174EA6;\n",
              "    }\n",
              "\n",
              "    [theme=dark] .colab-df-convert {\n",
              "      background-color: #3B4455;\n",
              "      fill: #D2E3FC;\n",
              "    }\n",
              "\n",
              "    [theme=dark] .colab-df-convert:hover {\n",
              "      background-color: #434B5C;\n",
              "      box-shadow: 0px 1px 3px 1px rgba(0, 0, 0, 0.15);\n",
              "      filter: drop-shadow(0px 1px 2px rgba(0, 0, 0, 0.3));\n",
              "      fill: #FFFFFF;\n",
              "    }\n",
              "  </style>\n",
              "\n",
              "      <script>\n",
              "        const buttonEl =\n",
              "          document.querySelector('#df-c19cd951-9bf1-4e65-8f0b-60039bced434 button.colab-df-convert');\n",
              "        buttonEl.style.display =\n",
              "          google.colab.kernel.accessAllowed ? 'block' : 'none';\n",
              "\n",
              "        async function convertToInteractive(key) {\n",
              "          const element = document.querySelector('#df-c19cd951-9bf1-4e65-8f0b-60039bced434');\n",
              "          const dataTable =\n",
              "            await google.colab.kernel.invokeFunction('convertToInteractive',\n",
              "                                                     [key], {});\n",
              "          if (!dataTable) return;\n",
              "\n",
              "          const docLinkHtml = 'Like what you see? Visit the ' +\n",
              "            '<a target=\"_blank\" href=https://colab.research.google.com/notebooks/data_table.ipynb>data table notebook</a>'\n",
              "            + ' to learn more about interactive tables.';\n",
              "          element.innerHTML = '';\n",
              "          dataTable['output_type'] = 'display_data';\n",
              "          await google.colab.output.renderOutput(dataTable, element);\n",
              "          const docLink = document.createElement('div');\n",
              "          docLink.innerHTML = docLinkHtml;\n",
              "          element.appendChild(docLink);\n",
              "        }\n",
              "      </script>\n",
              "    </div>\n",
              "  </div>\n",
              "  "
            ]
          },
          "metadata": {},
          "execution_count": 72
        }
      ]
    },
    {
      "cell_type": "code",
      "source": [
        "concat_home.groupby('job').mean()"
      ],
      "metadata": {
        "colab": {
          "base_uri": "https://localhost:8080/",
          "height": 0
        },
        "id": "bodaK5Z5pT-x",
        "outputId": "7def76b5-3936-4005-9e27-1b3462f2d0b9"
      },
      "execution_count": 73,
      "outputs": [
        {
          "output_type": "execute_result",
          "data": {
            "text/plain": [
              "                            duration  credit_amount  installment_commitment  \\\n",
              "job                                                                           \n",
              "unemp/unskilled non res    17.363636    2745.136364                2.318182   \n",
              "unskilled resident         16.535000    2358.520000                2.845000   \n",
              "skilled                    21.411111    3070.965079                3.009524   \n",
              "high qualif/self emp/mgmt  25.168919    5435.493243                3.087838   \n",
              "\n",
              "                           residence_since        age  existing_credits  \\\n",
              "job                                                                       \n",
              "unemp/unskilled non res           2.590909  40.090909          1.636364   \n",
              "unskilled resident                2.865000  36.540000          1.395000   \n",
              "skilled                           2.844444  34.253968          1.406349   \n",
              "high qualif/self emp/mgmt         2.858108  39.027027          1.391892   \n",
              "\n",
              "                           num_dependents  \n",
              "job                                        \n",
              "unemp/unskilled non res          1.136364  \n",
              "unskilled resident               1.260000  \n",
              "skilled                          1.125397  \n",
              "high qualif/self emp/mgmt        1.141892  "
            ],
            "text/html": [
              "\n",
              "  <div id=\"df-a8e984b1-1e0e-43b9-9e75-9b6a5bcbb634\">\n",
              "    <div class=\"colab-df-container\">\n",
              "      <div>\n",
              "<style scoped>\n",
              "    .dataframe tbody tr th:only-of-type {\n",
              "        vertical-align: middle;\n",
              "    }\n",
              "\n",
              "    .dataframe tbody tr th {\n",
              "        vertical-align: top;\n",
              "    }\n",
              "\n",
              "    .dataframe thead th {\n",
              "        text-align: right;\n",
              "    }\n",
              "</style>\n",
              "<table border=\"1\" class=\"dataframe\">\n",
              "  <thead>\n",
              "    <tr style=\"text-align: right;\">\n",
              "      <th></th>\n",
              "      <th>duration</th>\n",
              "      <th>credit_amount</th>\n",
              "      <th>installment_commitment</th>\n",
              "      <th>residence_since</th>\n",
              "      <th>age</th>\n",
              "      <th>existing_credits</th>\n",
              "      <th>num_dependents</th>\n",
              "    </tr>\n",
              "    <tr>\n",
              "      <th>job</th>\n",
              "      <th></th>\n",
              "      <th></th>\n",
              "      <th></th>\n",
              "      <th></th>\n",
              "      <th></th>\n",
              "      <th></th>\n",
              "      <th></th>\n",
              "    </tr>\n",
              "  </thead>\n",
              "  <tbody>\n",
              "    <tr>\n",
              "      <th>unemp/unskilled non res</th>\n",
              "      <td>17.363636</td>\n",
              "      <td>2745.136364</td>\n",
              "      <td>2.318182</td>\n",
              "      <td>2.590909</td>\n",
              "      <td>40.090909</td>\n",
              "      <td>1.636364</td>\n",
              "      <td>1.136364</td>\n",
              "    </tr>\n",
              "    <tr>\n",
              "      <th>unskilled resident</th>\n",
              "      <td>16.535000</td>\n",
              "      <td>2358.520000</td>\n",
              "      <td>2.845000</td>\n",
              "      <td>2.865000</td>\n",
              "      <td>36.540000</td>\n",
              "      <td>1.395000</td>\n",
              "      <td>1.260000</td>\n",
              "    </tr>\n",
              "    <tr>\n",
              "      <th>skilled</th>\n",
              "      <td>21.411111</td>\n",
              "      <td>3070.965079</td>\n",
              "      <td>3.009524</td>\n",
              "      <td>2.844444</td>\n",
              "      <td>34.253968</td>\n",
              "      <td>1.406349</td>\n",
              "      <td>1.125397</td>\n",
              "    </tr>\n",
              "    <tr>\n",
              "      <th>high qualif/self emp/mgmt</th>\n",
              "      <td>25.168919</td>\n",
              "      <td>5435.493243</td>\n",
              "      <td>3.087838</td>\n",
              "      <td>2.858108</td>\n",
              "      <td>39.027027</td>\n",
              "      <td>1.391892</td>\n",
              "      <td>1.141892</td>\n",
              "    </tr>\n",
              "  </tbody>\n",
              "</table>\n",
              "</div>\n",
              "      <button class=\"colab-df-convert\" onclick=\"convertToInteractive('df-a8e984b1-1e0e-43b9-9e75-9b6a5bcbb634')\"\n",
              "              title=\"Convert this dataframe to an interactive table.\"\n",
              "              style=\"display:none;\">\n",
              "        \n",
              "  <svg xmlns=\"http://www.w3.org/2000/svg\" height=\"24px\"viewBox=\"0 0 24 24\"\n",
              "       width=\"24px\">\n",
              "    <path d=\"M0 0h24v24H0V0z\" fill=\"none\"/>\n",
              "    <path d=\"M18.56 5.44l.94 2.06.94-2.06 2.06-.94-2.06-.94-.94-2.06-.94 2.06-2.06.94zm-11 1L8.5 8.5l.94-2.06 2.06-.94-2.06-.94L8.5 2.5l-.94 2.06-2.06.94zm10 10l.94 2.06.94-2.06 2.06-.94-2.06-.94-.94-2.06-.94 2.06-2.06.94z\"/><path d=\"M17.41 7.96l-1.37-1.37c-.4-.4-.92-.59-1.43-.59-.52 0-1.04.2-1.43.59L10.3 9.45l-7.72 7.72c-.78.78-.78 2.05 0 2.83L4 21.41c.39.39.9.59 1.41.59.51 0 1.02-.2 1.41-.59l7.78-7.78 2.81-2.81c.8-.78.8-2.07 0-2.86zM5.41 20L4 18.59l7.72-7.72 1.47 1.35L5.41 20z\"/>\n",
              "  </svg>\n",
              "      </button>\n",
              "      \n",
              "  <style>\n",
              "    .colab-df-container {\n",
              "      display:flex;\n",
              "      flex-wrap:wrap;\n",
              "      gap: 12px;\n",
              "    }\n",
              "\n",
              "    .colab-df-convert {\n",
              "      background-color: #E8F0FE;\n",
              "      border: none;\n",
              "      border-radius: 50%;\n",
              "      cursor: pointer;\n",
              "      display: none;\n",
              "      fill: #1967D2;\n",
              "      height: 32px;\n",
              "      padding: 0 0 0 0;\n",
              "      width: 32px;\n",
              "    }\n",
              "\n",
              "    .colab-df-convert:hover {\n",
              "      background-color: #E2EBFA;\n",
              "      box-shadow: 0px 1px 2px rgba(60, 64, 67, 0.3), 0px 1px 3px 1px rgba(60, 64, 67, 0.15);\n",
              "      fill: #174EA6;\n",
              "    }\n",
              "\n",
              "    [theme=dark] .colab-df-convert {\n",
              "      background-color: #3B4455;\n",
              "      fill: #D2E3FC;\n",
              "    }\n",
              "\n",
              "    [theme=dark] .colab-df-convert:hover {\n",
              "      background-color: #434B5C;\n",
              "      box-shadow: 0px 1px 3px 1px rgba(0, 0, 0, 0.15);\n",
              "      filter: drop-shadow(0px 1px 2px rgba(0, 0, 0, 0.3));\n",
              "      fill: #FFFFFF;\n",
              "    }\n",
              "  </style>\n",
              "\n",
              "      <script>\n",
              "        const buttonEl =\n",
              "          document.querySelector('#df-a8e984b1-1e0e-43b9-9e75-9b6a5bcbb634 button.colab-df-convert');\n",
              "        buttonEl.style.display =\n",
              "          google.colab.kernel.accessAllowed ? 'block' : 'none';\n",
              "\n",
              "        async function convertToInteractive(key) {\n",
              "          const element = document.querySelector('#df-a8e984b1-1e0e-43b9-9e75-9b6a5bcbb634');\n",
              "          const dataTable =\n",
              "            await google.colab.kernel.invokeFunction('convertToInteractive',\n",
              "                                                     [key], {});\n",
              "          if (!dataTable) return;\n",
              "\n",
              "          const docLinkHtml = 'Like what you see? Visit the ' +\n",
              "            '<a target=\"_blank\" href=https://colab.research.google.com/notebooks/data_table.ipynb>data table notebook</a>'\n",
              "            + ' to learn more about interactive tables.';\n",
              "          element.innerHTML = '';\n",
              "          dataTable['output_type'] = 'display_data';\n",
              "          await google.colab.output.renderOutput(dataTable, element);\n",
              "          const docLink = document.createElement('div');\n",
              "          docLink.innerHTML = docLinkHtml;\n",
              "          element.appendChild(docLink);\n",
              "        }\n",
              "      </script>\n",
              "    </div>\n",
              "  </div>\n",
              "  "
            ]
          },
          "metadata": {},
          "execution_count": 73
        }
      ]
    },
    {
      "cell_type": "markdown",
      "source": [
        "Как видим, наибольшая сумма кредита в среднем относится к людям на высокой должности. Время заема для них так же является наибольшим.\n",
        "\n",
        "Клиенты без квалификации берут наименьшие по сумме и по продолжительности кредиты."
      ],
      "metadata": {
        "id": "4ZmivmQwpoYY"
      }
    },
    {
      "cell_type": "code",
      "source": [
        "concat_home.groupby('employment').mean()"
      ],
      "metadata": {
        "colab": {
          "base_uri": "https://localhost:8080/",
          "height": 0
        },
        "id": "hykzYtniqR1o",
        "outputId": "fb822a0a-c99f-4970-e004-15db108474d9"
      },
      "execution_count": 74,
      "outputs": [
        {
          "output_type": "execute_result",
          "data": {
            "text/plain": [
              "             duration  credit_amount  installment_commitment  residence_since  \\\n",
              "employment                                                                      \n",
              "unemployed  20.661290    4216.758065                2.758065         3.000000   \n",
              "<1          19.401163    2952.453488                2.889535         2.447674   \n",
              "1<=X<4      20.365782    3125.286136                2.864307         2.628319   \n",
              "4<=X<7      22.994253    3601.695402                2.971264         2.770115   \n",
              ">=7         21.264822    3224.624506                3.229249         3.418972   \n",
              "\n",
              "                  age  existing_credits  num_dependents  \n",
              "employment                                               \n",
              "unemployed  40.435484          1.435484        1.096774  \n",
              "<1          30.308140          1.284884        1.116279  \n",
              "1<=X<4      33.085546          1.348083        1.138643  \n",
              "4<=X<7      33.477011          1.454023        1.172414  \n",
              ">=7         42.628458          1.529644        1.205534  "
            ],
            "text/html": [
              "\n",
              "  <div id=\"df-c6f96d5d-9011-4ff6-b0e7-d6ea860246a4\">\n",
              "    <div class=\"colab-df-container\">\n",
              "      <div>\n",
              "<style scoped>\n",
              "    .dataframe tbody tr th:only-of-type {\n",
              "        vertical-align: middle;\n",
              "    }\n",
              "\n",
              "    .dataframe tbody tr th {\n",
              "        vertical-align: top;\n",
              "    }\n",
              "\n",
              "    .dataframe thead th {\n",
              "        text-align: right;\n",
              "    }\n",
              "</style>\n",
              "<table border=\"1\" class=\"dataframe\">\n",
              "  <thead>\n",
              "    <tr style=\"text-align: right;\">\n",
              "      <th></th>\n",
              "      <th>duration</th>\n",
              "      <th>credit_amount</th>\n",
              "      <th>installment_commitment</th>\n",
              "      <th>residence_since</th>\n",
              "      <th>age</th>\n",
              "      <th>existing_credits</th>\n",
              "      <th>num_dependents</th>\n",
              "    </tr>\n",
              "    <tr>\n",
              "      <th>employment</th>\n",
              "      <th></th>\n",
              "      <th></th>\n",
              "      <th></th>\n",
              "      <th></th>\n",
              "      <th></th>\n",
              "      <th></th>\n",
              "      <th></th>\n",
              "    </tr>\n",
              "  </thead>\n",
              "  <tbody>\n",
              "    <tr>\n",
              "      <th>unemployed</th>\n",
              "      <td>20.661290</td>\n",
              "      <td>4216.758065</td>\n",
              "      <td>2.758065</td>\n",
              "      <td>3.000000</td>\n",
              "      <td>40.435484</td>\n",
              "      <td>1.435484</td>\n",
              "      <td>1.096774</td>\n",
              "    </tr>\n",
              "    <tr>\n",
              "      <th>&lt;1</th>\n",
              "      <td>19.401163</td>\n",
              "      <td>2952.453488</td>\n",
              "      <td>2.889535</td>\n",
              "      <td>2.447674</td>\n",
              "      <td>30.308140</td>\n",
              "      <td>1.284884</td>\n",
              "      <td>1.116279</td>\n",
              "    </tr>\n",
              "    <tr>\n",
              "      <th>1&lt;=X&lt;4</th>\n",
              "      <td>20.365782</td>\n",
              "      <td>3125.286136</td>\n",
              "      <td>2.864307</td>\n",
              "      <td>2.628319</td>\n",
              "      <td>33.085546</td>\n",
              "      <td>1.348083</td>\n",
              "      <td>1.138643</td>\n",
              "    </tr>\n",
              "    <tr>\n",
              "      <th>4&lt;=X&lt;7</th>\n",
              "      <td>22.994253</td>\n",
              "      <td>3601.695402</td>\n",
              "      <td>2.971264</td>\n",
              "      <td>2.770115</td>\n",
              "      <td>33.477011</td>\n",
              "      <td>1.454023</td>\n",
              "      <td>1.172414</td>\n",
              "    </tr>\n",
              "    <tr>\n",
              "      <th>&gt;=7</th>\n",
              "      <td>21.264822</td>\n",
              "      <td>3224.624506</td>\n",
              "      <td>3.229249</td>\n",
              "      <td>3.418972</td>\n",
              "      <td>42.628458</td>\n",
              "      <td>1.529644</td>\n",
              "      <td>1.205534</td>\n",
              "    </tr>\n",
              "  </tbody>\n",
              "</table>\n",
              "</div>\n",
              "      <button class=\"colab-df-convert\" onclick=\"convertToInteractive('df-c6f96d5d-9011-4ff6-b0e7-d6ea860246a4')\"\n",
              "              title=\"Convert this dataframe to an interactive table.\"\n",
              "              style=\"display:none;\">\n",
              "        \n",
              "  <svg xmlns=\"http://www.w3.org/2000/svg\" height=\"24px\"viewBox=\"0 0 24 24\"\n",
              "       width=\"24px\">\n",
              "    <path d=\"M0 0h24v24H0V0z\" fill=\"none\"/>\n",
              "    <path d=\"M18.56 5.44l.94 2.06.94-2.06 2.06-.94-2.06-.94-.94-2.06-.94 2.06-2.06.94zm-11 1L8.5 8.5l.94-2.06 2.06-.94-2.06-.94L8.5 2.5l-.94 2.06-2.06.94zm10 10l.94 2.06.94-2.06 2.06-.94-2.06-.94-.94-2.06-.94 2.06-2.06.94z\"/><path d=\"M17.41 7.96l-1.37-1.37c-.4-.4-.92-.59-1.43-.59-.52 0-1.04.2-1.43.59L10.3 9.45l-7.72 7.72c-.78.78-.78 2.05 0 2.83L4 21.41c.39.39.9.59 1.41.59.51 0 1.02-.2 1.41-.59l7.78-7.78 2.81-2.81c.8-.78.8-2.07 0-2.86zM5.41 20L4 18.59l7.72-7.72 1.47 1.35L5.41 20z\"/>\n",
              "  </svg>\n",
              "      </button>\n",
              "      \n",
              "  <style>\n",
              "    .colab-df-container {\n",
              "      display:flex;\n",
              "      flex-wrap:wrap;\n",
              "      gap: 12px;\n",
              "    }\n",
              "\n",
              "    .colab-df-convert {\n",
              "      background-color: #E8F0FE;\n",
              "      border: none;\n",
              "      border-radius: 50%;\n",
              "      cursor: pointer;\n",
              "      display: none;\n",
              "      fill: #1967D2;\n",
              "      height: 32px;\n",
              "      padding: 0 0 0 0;\n",
              "      width: 32px;\n",
              "    }\n",
              "\n",
              "    .colab-df-convert:hover {\n",
              "      background-color: #E2EBFA;\n",
              "      box-shadow: 0px 1px 2px rgba(60, 64, 67, 0.3), 0px 1px 3px 1px rgba(60, 64, 67, 0.15);\n",
              "      fill: #174EA6;\n",
              "    }\n",
              "\n",
              "    [theme=dark] .colab-df-convert {\n",
              "      background-color: #3B4455;\n",
              "      fill: #D2E3FC;\n",
              "    }\n",
              "\n",
              "    [theme=dark] .colab-df-convert:hover {\n",
              "      background-color: #434B5C;\n",
              "      box-shadow: 0px 1px 3px 1px rgba(0, 0, 0, 0.15);\n",
              "      filter: drop-shadow(0px 1px 2px rgba(0, 0, 0, 0.3));\n",
              "      fill: #FFFFFF;\n",
              "    }\n",
              "  </style>\n",
              "\n",
              "      <script>\n",
              "        const buttonEl =\n",
              "          document.querySelector('#df-c6f96d5d-9011-4ff6-b0e7-d6ea860246a4 button.colab-df-convert');\n",
              "        buttonEl.style.display =\n",
              "          google.colab.kernel.accessAllowed ? 'block' : 'none';\n",
              "\n",
              "        async function convertToInteractive(key) {\n",
              "          const element = document.querySelector('#df-c6f96d5d-9011-4ff6-b0e7-d6ea860246a4');\n",
              "          const dataTable =\n",
              "            await google.colab.kernel.invokeFunction('convertToInteractive',\n",
              "                                                     [key], {});\n",
              "          if (!dataTable) return;\n",
              "\n",
              "          const docLinkHtml = 'Like what you see? Visit the ' +\n",
              "            '<a target=\"_blank\" href=https://colab.research.google.com/notebooks/data_table.ipynb>data table notebook</a>'\n",
              "            + ' to learn more about interactive tables.';\n",
              "          element.innerHTML = '';\n",
              "          dataTable['output_type'] = 'display_data';\n",
              "          await google.colab.output.renderOutput(dataTable, element);\n",
              "          const docLink = document.createElement('div');\n",
              "          docLink.innerHTML = docLinkHtml;\n",
              "          element.appendChild(docLink);\n",
              "        }\n",
              "      </script>\n",
              "    </div>\n",
              "  </div>\n",
              "  "
            ]
          },
          "metadata": {},
          "execution_count": 74
        }
      ]
    },
    {
      "cell_type": "markdown",
      "source": [
        "Однако при этом безработные склонны в целом брать кредит на наибольшие суммы. Вероятно, в выборке есть высоко квалифицированные работники, не работающие на данный момент."
      ],
      "metadata": {
        "id": "NGYiYLj7q1TA"
      }
    },
    {
      "cell_type": "code",
      "source": [
        "concat_home.groupby('foreign_worker').mean()"
      ],
      "metadata": {
        "colab": {
          "base_uri": "https://localhost:8080/",
          "height": 0
        },
        "id": "fBG_RXCtrMhf",
        "outputId": "051eee62-fd8d-48be-f87c-2a5d9e4877c0"
      },
      "execution_count": 75,
      "outputs": [
        {
          "output_type": "execute_result",
          "data": {
            "text/plain": [
              "                 duration  credit_amount  installment_commitment  \\\n",
              "foreign_worker                                                     \n",
              "yes             21.229491    3298.936656                2.992731   \n",
              "no              12.405405    2550.864865                2.459459   \n",
              "\n",
              "                residence_since        age  existing_credits  num_dependents  \n",
              "foreign_worker                                                                \n",
              "yes                    2.856698  35.559709          1.408100        1.149533  \n",
              "no                     2.540541  35.189189          1.378378        1.297297  "
            ],
            "text/html": [
              "\n",
              "  <div id=\"df-f9d4f858-49f4-4f0a-a7dc-5878033b9957\">\n",
              "    <div class=\"colab-df-container\">\n",
              "      <div>\n",
              "<style scoped>\n",
              "    .dataframe tbody tr th:only-of-type {\n",
              "        vertical-align: middle;\n",
              "    }\n",
              "\n",
              "    .dataframe tbody tr th {\n",
              "        vertical-align: top;\n",
              "    }\n",
              "\n",
              "    .dataframe thead th {\n",
              "        text-align: right;\n",
              "    }\n",
              "</style>\n",
              "<table border=\"1\" class=\"dataframe\">\n",
              "  <thead>\n",
              "    <tr style=\"text-align: right;\">\n",
              "      <th></th>\n",
              "      <th>duration</th>\n",
              "      <th>credit_amount</th>\n",
              "      <th>installment_commitment</th>\n",
              "      <th>residence_since</th>\n",
              "      <th>age</th>\n",
              "      <th>existing_credits</th>\n",
              "      <th>num_dependents</th>\n",
              "    </tr>\n",
              "    <tr>\n",
              "      <th>foreign_worker</th>\n",
              "      <th></th>\n",
              "      <th></th>\n",
              "      <th></th>\n",
              "      <th></th>\n",
              "      <th></th>\n",
              "      <th></th>\n",
              "      <th></th>\n",
              "    </tr>\n",
              "  </thead>\n",
              "  <tbody>\n",
              "    <tr>\n",
              "      <th>yes</th>\n",
              "      <td>21.229491</td>\n",
              "      <td>3298.936656</td>\n",
              "      <td>2.992731</td>\n",
              "      <td>2.856698</td>\n",
              "      <td>35.559709</td>\n",
              "      <td>1.408100</td>\n",
              "      <td>1.149533</td>\n",
              "    </tr>\n",
              "    <tr>\n",
              "      <th>no</th>\n",
              "      <td>12.405405</td>\n",
              "      <td>2550.864865</td>\n",
              "      <td>2.459459</td>\n",
              "      <td>2.540541</td>\n",
              "      <td>35.189189</td>\n",
              "      <td>1.378378</td>\n",
              "      <td>1.297297</td>\n",
              "    </tr>\n",
              "  </tbody>\n",
              "</table>\n",
              "</div>\n",
              "      <button class=\"colab-df-convert\" onclick=\"convertToInteractive('df-f9d4f858-49f4-4f0a-a7dc-5878033b9957')\"\n",
              "              title=\"Convert this dataframe to an interactive table.\"\n",
              "              style=\"display:none;\">\n",
              "        \n",
              "  <svg xmlns=\"http://www.w3.org/2000/svg\" height=\"24px\"viewBox=\"0 0 24 24\"\n",
              "       width=\"24px\">\n",
              "    <path d=\"M0 0h24v24H0V0z\" fill=\"none\"/>\n",
              "    <path d=\"M18.56 5.44l.94 2.06.94-2.06 2.06-.94-2.06-.94-.94-2.06-.94 2.06-2.06.94zm-11 1L8.5 8.5l.94-2.06 2.06-.94-2.06-.94L8.5 2.5l-.94 2.06-2.06.94zm10 10l.94 2.06.94-2.06 2.06-.94-2.06-.94-.94-2.06-.94 2.06-2.06.94z\"/><path d=\"M17.41 7.96l-1.37-1.37c-.4-.4-.92-.59-1.43-.59-.52 0-1.04.2-1.43.59L10.3 9.45l-7.72 7.72c-.78.78-.78 2.05 0 2.83L4 21.41c.39.39.9.59 1.41.59.51 0 1.02-.2 1.41-.59l7.78-7.78 2.81-2.81c.8-.78.8-2.07 0-2.86zM5.41 20L4 18.59l7.72-7.72 1.47 1.35L5.41 20z\"/>\n",
              "  </svg>\n",
              "      </button>\n",
              "      \n",
              "  <style>\n",
              "    .colab-df-container {\n",
              "      display:flex;\n",
              "      flex-wrap:wrap;\n",
              "      gap: 12px;\n",
              "    }\n",
              "\n",
              "    .colab-df-convert {\n",
              "      background-color: #E8F0FE;\n",
              "      border: none;\n",
              "      border-radius: 50%;\n",
              "      cursor: pointer;\n",
              "      display: none;\n",
              "      fill: #1967D2;\n",
              "      height: 32px;\n",
              "      padding: 0 0 0 0;\n",
              "      width: 32px;\n",
              "    }\n",
              "\n",
              "    .colab-df-convert:hover {\n",
              "      background-color: #E2EBFA;\n",
              "      box-shadow: 0px 1px 2px rgba(60, 64, 67, 0.3), 0px 1px 3px 1px rgba(60, 64, 67, 0.15);\n",
              "      fill: #174EA6;\n",
              "    }\n",
              "\n",
              "    [theme=dark] .colab-df-convert {\n",
              "      background-color: #3B4455;\n",
              "      fill: #D2E3FC;\n",
              "    }\n",
              "\n",
              "    [theme=dark] .colab-df-convert:hover {\n",
              "      background-color: #434B5C;\n",
              "      box-shadow: 0px 1px 3px 1px rgba(0, 0, 0, 0.15);\n",
              "      filter: drop-shadow(0px 1px 2px rgba(0, 0, 0, 0.3));\n",
              "      fill: #FFFFFF;\n",
              "    }\n",
              "  </style>\n",
              "\n",
              "      <script>\n",
              "        const buttonEl =\n",
              "          document.querySelector('#df-f9d4f858-49f4-4f0a-a7dc-5878033b9957 button.colab-df-convert');\n",
              "        buttonEl.style.display =\n",
              "          google.colab.kernel.accessAllowed ? 'block' : 'none';\n",
              "\n",
              "        async function convertToInteractive(key) {\n",
              "          const element = document.querySelector('#df-f9d4f858-49f4-4f0a-a7dc-5878033b9957');\n",
              "          const dataTable =\n",
              "            await google.colab.kernel.invokeFunction('convertToInteractive',\n",
              "                                                     [key], {});\n",
              "          if (!dataTable) return;\n",
              "\n",
              "          const docLinkHtml = 'Like what you see? Visit the ' +\n",
              "            '<a target=\"_blank\" href=https://colab.research.google.com/notebooks/data_table.ipynb>data table notebook</a>'\n",
              "            + ' to learn more about interactive tables.';\n",
              "          element.innerHTML = '';\n",
              "          dataTable['output_type'] = 'display_data';\n",
              "          await google.colab.output.renderOutput(dataTable, element);\n",
              "          const docLink = document.createElement('div');\n",
              "          docLink.innerHTML = docLinkHtml;\n",
              "          element.appendChild(docLink);\n",
              "        }\n",
              "      </script>\n",
              "    </div>\n",
              "  </div>\n",
              "  "
            ]
          },
          "metadata": {},
          "execution_count": 75
        }
      ]
    },
    {
      "cell_type": "markdown",
      "source": [
        "При этом иностранцы берут кредит на большие суммы и большие сроки."
      ],
      "metadata": {
        "id": "fyM9NnNwrkPN"
      }
    },
    {
      "cell_type": "code",
      "source": [
        "concat_home.groupby('personal_status').mean()"
      ],
      "metadata": {
        "colab": {
          "base_uri": "https://localhost:8080/",
          "height": 0
        },
        "id": "91bprXKJrz58",
        "outputId": "34f0afe1-8465-415e-e79b-cd19e2962139"
      },
      "execution_count": 76,
      "outputs": [
        {
          "output_type": "execute_result",
          "data": {
            "text/plain": [
              "                     duration  credit_amount  installment_commitment  \\\n",
              "personal_status                                                        \n",
              "male div/sep        21.240000    3684.700000                2.500000   \n",
              "female div/dep/mar  19.438710    2877.774194                2.829032   \n",
              "male single         22.237226    3661.903285                3.093066   \n",
              "male mar/wid        17.706522    2045.543478                3.000000   \n",
              "female single             NaN            NaN                     NaN   \n",
              "\n",
              "                    residence_since        age  existing_credits  \\\n",
              "personal_status                                                    \n",
              "male div/sep               2.660000  38.640000          1.340000   \n",
              "female div/dep/mar         2.867742  32.803226          1.325806   \n",
              "male single                2.908759  37.687956          1.468978   \n",
              "male mar/wid               2.489130  30.347826          1.347826   \n",
              "female single                   NaN        NaN               NaN   \n",
              "\n",
              "                    num_dependents  \n",
              "personal_status                     \n",
              "male div/sep              1.060000  \n",
              "female div/dep/mar        1.045161  \n",
              "male single               1.248175  \n",
              "male mar/wid              1.021739  \n",
              "female single                  NaN  "
            ],
            "text/html": [
              "\n",
              "  <div id=\"df-82b4bca9-4943-45e6-bf50-ca9702a4ccfc\">\n",
              "    <div class=\"colab-df-container\">\n",
              "      <div>\n",
              "<style scoped>\n",
              "    .dataframe tbody tr th:only-of-type {\n",
              "        vertical-align: middle;\n",
              "    }\n",
              "\n",
              "    .dataframe tbody tr th {\n",
              "        vertical-align: top;\n",
              "    }\n",
              "\n",
              "    .dataframe thead th {\n",
              "        text-align: right;\n",
              "    }\n",
              "</style>\n",
              "<table border=\"1\" class=\"dataframe\">\n",
              "  <thead>\n",
              "    <tr style=\"text-align: right;\">\n",
              "      <th></th>\n",
              "      <th>duration</th>\n",
              "      <th>credit_amount</th>\n",
              "      <th>installment_commitment</th>\n",
              "      <th>residence_since</th>\n",
              "      <th>age</th>\n",
              "      <th>existing_credits</th>\n",
              "      <th>num_dependents</th>\n",
              "    </tr>\n",
              "    <tr>\n",
              "      <th>personal_status</th>\n",
              "      <th></th>\n",
              "      <th></th>\n",
              "      <th></th>\n",
              "      <th></th>\n",
              "      <th></th>\n",
              "      <th></th>\n",
              "      <th></th>\n",
              "    </tr>\n",
              "  </thead>\n",
              "  <tbody>\n",
              "    <tr>\n",
              "      <th>male div/sep</th>\n",
              "      <td>21.240000</td>\n",
              "      <td>3684.700000</td>\n",
              "      <td>2.500000</td>\n",
              "      <td>2.660000</td>\n",
              "      <td>38.640000</td>\n",
              "      <td>1.340000</td>\n",
              "      <td>1.060000</td>\n",
              "    </tr>\n",
              "    <tr>\n",
              "      <th>female div/dep/mar</th>\n",
              "      <td>19.438710</td>\n",
              "      <td>2877.774194</td>\n",
              "      <td>2.829032</td>\n",
              "      <td>2.867742</td>\n",
              "      <td>32.803226</td>\n",
              "      <td>1.325806</td>\n",
              "      <td>1.045161</td>\n",
              "    </tr>\n",
              "    <tr>\n",
              "      <th>male single</th>\n",
              "      <td>22.237226</td>\n",
              "      <td>3661.903285</td>\n",
              "      <td>3.093066</td>\n",
              "      <td>2.908759</td>\n",
              "      <td>37.687956</td>\n",
              "      <td>1.468978</td>\n",
              "      <td>1.248175</td>\n",
              "    </tr>\n",
              "    <tr>\n",
              "      <th>male mar/wid</th>\n",
              "      <td>17.706522</td>\n",
              "      <td>2045.543478</td>\n",
              "      <td>3.000000</td>\n",
              "      <td>2.489130</td>\n",
              "      <td>30.347826</td>\n",
              "      <td>1.347826</td>\n",
              "      <td>1.021739</td>\n",
              "    </tr>\n",
              "    <tr>\n",
              "      <th>female single</th>\n",
              "      <td>NaN</td>\n",
              "      <td>NaN</td>\n",
              "      <td>NaN</td>\n",
              "      <td>NaN</td>\n",
              "      <td>NaN</td>\n",
              "      <td>NaN</td>\n",
              "      <td>NaN</td>\n",
              "    </tr>\n",
              "  </tbody>\n",
              "</table>\n",
              "</div>\n",
              "      <button class=\"colab-df-convert\" onclick=\"convertToInteractive('df-82b4bca9-4943-45e6-bf50-ca9702a4ccfc')\"\n",
              "              title=\"Convert this dataframe to an interactive table.\"\n",
              "              style=\"display:none;\">\n",
              "        \n",
              "  <svg xmlns=\"http://www.w3.org/2000/svg\" height=\"24px\"viewBox=\"0 0 24 24\"\n",
              "       width=\"24px\">\n",
              "    <path d=\"M0 0h24v24H0V0z\" fill=\"none\"/>\n",
              "    <path d=\"M18.56 5.44l.94 2.06.94-2.06 2.06-.94-2.06-.94-.94-2.06-.94 2.06-2.06.94zm-11 1L8.5 8.5l.94-2.06 2.06-.94-2.06-.94L8.5 2.5l-.94 2.06-2.06.94zm10 10l.94 2.06.94-2.06 2.06-.94-2.06-.94-.94-2.06-.94 2.06-2.06.94z\"/><path d=\"M17.41 7.96l-1.37-1.37c-.4-.4-.92-.59-1.43-.59-.52 0-1.04.2-1.43.59L10.3 9.45l-7.72 7.72c-.78.78-.78 2.05 0 2.83L4 21.41c.39.39.9.59 1.41.59.51 0 1.02-.2 1.41-.59l7.78-7.78 2.81-2.81c.8-.78.8-2.07 0-2.86zM5.41 20L4 18.59l7.72-7.72 1.47 1.35L5.41 20z\"/>\n",
              "  </svg>\n",
              "      </button>\n",
              "      \n",
              "  <style>\n",
              "    .colab-df-container {\n",
              "      display:flex;\n",
              "      flex-wrap:wrap;\n",
              "      gap: 12px;\n",
              "    }\n",
              "\n",
              "    .colab-df-convert {\n",
              "      background-color: #E8F0FE;\n",
              "      border: none;\n",
              "      border-radius: 50%;\n",
              "      cursor: pointer;\n",
              "      display: none;\n",
              "      fill: #1967D2;\n",
              "      height: 32px;\n",
              "      padding: 0 0 0 0;\n",
              "      width: 32px;\n",
              "    }\n",
              "\n",
              "    .colab-df-convert:hover {\n",
              "      background-color: #E2EBFA;\n",
              "      box-shadow: 0px 1px 2px rgba(60, 64, 67, 0.3), 0px 1px 3px 1px rgba(60, 64, 67, 0.15);\n",
              "      fill: #174EA6;\n",
              "    }\n",
              "\n",
              "    [theme=dark] .colab-df-convert {\n",
              "      background-color: #3B4455;\n",
              "      fill: #D2E3FC;\n",
              "    }\n",
              "\n",
              "    [theme=dark] .colab-df-convert:hover {\n",
              "      background-color: #434B5C;\n",
              "      box-shadow: 0px 1px 3px 1px rgba(0, 0, 0, 0.15);\n",
              "      filter: drop-shadow(0px 1px 2px rgba(0, 0, 0, 0.3));\n",
              "      fill: #FFFFFF;\n",
              "    }\n",
              "  </style>\n",
              "\n",
              "      <script>\n",
              "        const buttonEl =\n",
              "          document.querySelector('#df-82b4bca9-4943-45e6-bf50-ca9702a4ccfc button.colab-df-convert');\n",
              "        buttonEl.style.display =\n",
              "          google.colab.kernel.accessAllowed ? 'block' : 'none';\n",
              "\n",
              "        async function convertToInteractive(key) {\n",
              "          const element = document.querySelector('#df-82b4bca9-4943-45e6-bf50-ca9702a4ccfc');\n",
              "          const dataTable =\n",
              "            await google.colab.kernel.invokeFunction('convertToInteractive',\n",
              "                                                     [key], {});\n",
              "          if (!dataTable) return;\n",
              "\n",
              "          const docLinkHtml = 'Like what you see? Visit the ' +\n",
              "            '<a target=\"_blank\" href=https://colab.research.google.com/notebooks/data_table.ipynb>data table notebook</a>'\n",
              "            + ' to learn more about interactive tables.';\n",
              "          element.innerHTML = '';\n",
              "          dataTable['output_type'] = 'display_data';\n",
              "          await google.colab.output.renderOutput(dataTable, element);\n",
              "          const docLink = document.createElement('div');\n",
              "          docLink.innerHTML = docLinkHtml;\n",
              "          element.appendChild(docLink);\n",
              "        }\n",
              "      </script>\n",
              "    </div>\n",
              "  </div>\n",
              "  "
            ]
          },
          "metadata": {},
          "execution_count": 76
        }
      ]
    },
    {
      "cell_type": "code",
      "source": [
        "concat_home.loc[concat_home.personal_status=='female single']"
      ],
      "metadata": {
        "colab": {
          "base_uri": "https://localhost:8080/",
          "height": 0
        },
        "id": "patBKxvSr-d5",
        "outputId": "5d8fd558-f0df-49b9-bb2f-8a533c48f2d6"
      },
      "execution_count": 77,
      "outputs": [
        {
          "output_type": "execute_result",
          "data": {
            "text/plain": [
              "Empty DataFrame\n",
              "Columns: [checking_status, duration, credit_history, purpose, credit_amount, savings_status, employment, installment_commitment, personal_status, other_parties, residence_since, property_magnitude, age, other_payment_plans, housing, existing_credits, job, num_dependents, own_telephone, foreign_worker, class]\n",
              "Index: []\n",
              "\n",
              "[0 rows x 21 columns]"
            ],
            "text/html": [
              "\n",
              "  <div id=\"df-1d337a96-baa5-4886-834a-019f664fc144\">\n",
              "    <div class=\"colab-df-container\">\n",
              "      <div>\n",
              "<style scoped>\n",
              "    .dataframe tbody tr th:only-of-type {\n",
              "        vertical-align: middle;\n",
              "    }\n",
              "\n",
              "    .dataframe tbody tr th {\n",
              "        vertical-align: top;\n",
              "    }\n",
              "\n",
              "    .dataframe thead th {\n",
              "        text-align: right;\n",
              "    }\n",
              "</style>\n",
              "<table border=\"1\" class=\"dataframe\">\n",
              "  <thead>\n",
              "    <tr style=\"text-align: right;\">\n",
              "      <th></th>\n",
              "      <th>checking_status</th>\n",
              "      <th>duration</th>\n",
              "      <th>credit_history</th>\n",
              "      <th>purpose</th>\n",
              "      <th>credit_amount</th>\n",
              "      <th>savings_status</th>\n",
              "      <th>employment</th>\n",
              "      <th>installment_commitment</th>\n",
              "      <th>personal_status</th>\n",
              "      <th>other_parties</th>\n",
              "      <th>...</th>\n",
              "      <th>property_magnitude</th>\n",
              "      <th>age</th>\n",
              "      <th>other_payment_plans</th>\n",
              "      <th>housing</th>\n",
              "      <th>existing_credits</th>\n",
              "      <th>job</th>\n",
              "      <th>num_dependents</th>\n",
              "      <th>own_telephone</th>\n",
              "      <th>foreign_worker</th>\n",
              "      <th>class</th>\n",
              "    </tr>\n",
              "  </thead>\n",
              "  <tbody>\n",
              "  </tbody>\n",
              "</table>\n",
              "<p>0 rows × 21 columns</p>\n",
              "</div>\n",
              "      <button class=\"colab-df-convert\" onclick=\"convertToInteractive('df-1d337a96-baa5-4886-834a-019f664fc144')\"\n",
              "              title=\"Convert this dataframe to an interactive table.\"\n",
              "              style=\"display:none;\">\n",
              "        \n",
              "  <svg xmlns=\"http://www.w3.org/2000/svg\" height=\"24px\"viewBox=\"0 0 24 24\"\n",
              "       width=\"24px\">\n",
              "    <path d=\"M0 0h24v24H0V0z\" fill=\"none\"/>\n",
              "    <path d=\"M18.56 5.44l.94 2.06.94-2.06 2.06-.94-2.06-.94-.94-2.06-.94 2.06-2.06.94zm-11 1L8.5 8.5l.94-2.06 2.06-.94-2.06-.94L8.5 2.5l-.94 2.06-2.06.94zm10 10l.94 2.06.94-2.06 2.06-.94-2.06-.94-.94-2.06-.94 2.06-2.06.94z\"/><path d=\"M17.41 7.96l-1.37-1.37c-.4-.4-.92-.59-1.43-.59-.52 0-1.04.2-1.43.59L10.3 9.45l-7.72 7.72c-.78.78-.78 2.05 0 2.83L4 21.41c.39.39.9.59 1.41.59.51 0 1.02-.2 1.41-.59l7.78-7.78 2.81-2.81c.8-.78.8-2.07 0-2.86zM5.41 20L4 18.59l7.72-7.72 1.47 1.35L5.41 20z\"/>\n",
              "  </svg>\n",
              "      </button>\n",
              "      \n",
              "  <style>\n",
              "    .colab-df-container {\n",
              "      display:flex;\n",
              "      flex-wrap:wrap;\n",
              "      gap: 12px;\n",
              "    }\n",
              "\n",
              "    .colab-df-convert {\n",
              "      background-color: #E8F0FE;\n",
              "      border: none;\n",
              "      border-radius: 50%;\n",
              "      cursor: pointer;\n",
              "      display: none;\n",
              "      fill: #1967D2;\n",
              "      height: 32px;\n",
              "      padding: 0 0 0 0;\n",
              "      width: 32px;\n",
              "    }\n",
              "\n",
              "    .colab-df-convert:hover {\n",
              "      background-color: #E2EBFA;\n",
              "      box-shadow: 0px 1px 2px rgba(60, 64, 67, 0.3), 0px 1px 3px 1px rgba(60, 64, 67, 0.15);\n",
              "      fill: #174EA6;\n",
              "    }\n",
              "\n",
              "    [theme=dark] .colab-df-convert {\n",
              "      background-color: #3B4455;\n",
              "      fill: #D2E3FC;\n",
              "    }\n",
              "\n",
              "    [theme=dark] .colab-df-convert:hover {\n",
              "      background-color: #434B5C;\n",
              "      box-shadow: 0px 1px 3px 1px rgba(0, 0, 0, 0.15);\n",
              "      filter: drop-shadow(0px 1px 2px rgba(0, 0, 0, 0.3));\n",
              "      fill: #FFFFFF;\n",
              "    }\n",
              "  </style>\n",
              "\n",
              "      <script>\n",
              "        const buttonEl =\n",
              "          document.querySelector('#df-1d337a96-baa5-4886-834a-019f664fc144 button.colab-df-convert');\n",
              "        buttonEl.style.display =\n",
              "          google.colab.kernel.accessAllowed ? 'block' : 'none';\n",
              "\n",
              "        async function convertToInteractive(key) {\n",
              "          const element = document.querySelector('#df-1d337a96-baa5-4886-834a-019f664fc144');\n",
              "          const dataTable =\n",
              "            await google.colab.kernel.invokeFunction('convertToInteractive',\n",
              "                                                     [key], {});\n",
              "          if (!dataTable) return;\n",
              "\n",
              "          const docLinkHtml = 'Like what you see? Visit the ' +\n",
              "            '<a target=\"_blank\" href=https://colab.research.google.com/notebooks/data_table.ipynb>data table notebook</a>'\n",
              "            + ' to learn more about interactive tables.';\n",
              "          element.innerHTML = '';\n",
              "          dataTable['output_type'] = 'display_data';\n",
              "          await google.colab.output.renderOutput(dataTable, element);\n",
              "          const docLink = document.createElement('div');\n",
              "          docLink.innerHTML = docLinkHtml;\n",
              "          element.appendChild(docLink);\n",
              "        }\n",
              "      </script>\n",
              "    </div>\n",
              "  </div>\n",
              "  "
            ]
          },
          "metadata": {},
          "execution_count": 77
        }
      ]
    },
    {
      "cell_type": "markdown",
      "source": [
        "Нам попалась совершенно неинформативная категория 'женщина, не замужем'. В датасете такие примеры отсутствуют, а, следовательно, это никак не повлияет на наше обучение.\n",
        "\n",
        "Мужчины склонны в среднем брать кредит на большие суммы, чем женщины. При этом в основном это будут разведенные или одинокие клиенты."
      ],
      "metadata": {
        "id": "VJImEmyetrVM"
      }
    },
    {
      "cell_type": "markdown",
      "source": [
        "### **Подготовка данных**"
      ],
      "metadata": {
        "id": "5-Rondg7lcKR"
      }
    },
    {
      "cell_type": "code",
      "source": [
        "# Корреляция всех представленных атрибутов друг с другом (только числовые)\n",
        "heatmap(abs(Predictors_home.corr()), annot=True)"
      ],
      "metadata": {
        "colab": {
          "base_uri": "https://localhost:8080/",
          "height": 591
        },
        "id": "eFoiT4b4rtcU",
        "outputId": "58dc08f6-66bf-4d6f-b4be-2668b16c65cb"
      },
      "execution_count": 78,
      "outputs": [
        {
          "output_type": "execute_result",
          "data": {
            "text/plain": [
              "<matplotlib.axes._subplots.AxesSubplot at 0x7f13abd3de50>"
            ]
          },
          "metadata": {},
          "execution_count": 78
        },
        {
          "output_type": "display_data",
          "data": {
            "text/plain": [
              "<Figure size 720x540 with 2 Axes>"
            ],
            "image/png": "[encoded data removed]"
          },
          "metadata": {}
        }
      ]
    },
    {
      "cell_type": "markdown",
      "source": [
        "Интерес представляет лишь взаимная корреляция duration и credit_amount (0.62). Очевидно, что большие суммы действительно будут превалировать в долгосрочных перспективах - это может быть ипотека, покупка автомобиля кредит - все то, на что у клиента нет возможности платить крупными суммами.\n",
        "\n",
        "Теперь рассмотрим корреляцию категориальных переменных с помощью V-коэффициента Крамера."
      ],
      "metadata": {
        "id": "eCgy3I9Fswk9"
      }
    },
    {
      "cell_type": "code",
      "source": [
        "def cramers_v(x, y):\n",
        "    confusion_matrix = pd.crosstab(x,y)\n",
        "    chi2 = ss.chi2_contingency(confusion_matrix)[0]\n",
        "    n = confusion_matrix.sum().sum()\n",
        "    phi2 = chi2/n\n",
        "    r,k = confusion_matrix.shape\n",
        "    phi2corr = max(0, phi2-((k-1)*(r-1))/(n-1))\n",
        "    rcorr = r-((r-1)**2)/(n-1)\n",
        "    kcorr = k-((k-1)**2)/(n-1)\n",
        "    return np.sqrt(phi2corr/min((kcorr-1),(rcorr-1)))"
      ],
      "metadata": {
        "id": "IP_IT5cQpzeW"
      },
      "execution_count": 79,
      "outputs": []
    },
    {
      "cell_type": "code",
      "source": [
        "cramerDict = {}\n",
        "\n",
        "for i in categories:\n",
        "  for j in categories:    \n",
        "    if i != j:\n",
        "      k= i + '_' + j\n",
        "      cramerDict[k] = cramers_v(Predictors_home[i], Predictors_home[j])\n",
        "\n",
        "# cramerDict"
      ],
      "metadata": {
        "id": "q6ZPjTR13TkS"
      },
      "execution_count": 80,
      "outputs": []
    },
    {
      "cell_type": "code",
      "source": [
        "koefMoreHalf_cramerDict = {key: value for key, value in cramerDict.items() if value > 0.5}\n",
        "koefMoreHalf_cramerDict"
      ],
      "metadata": {
        "colab": {
          "base_uri": "https://localhost:8080/"
        },
        "id": "hfSZKoMfzrlU",
        "outputId": "a4e76922-af79-456e-f948-2abfe6e85d5c"
      },
      "execution_count": 81,
      "outputs": [
        {
          "output_type": "execute_result",
          "data": {
            "text/plain": [
              "{'housing_property_magnitude': 0.5510116404863402,\n",
              " 'property_magnitude_housing': 0.5510116404863402}"
            ]
          },
          "metadata": {},
          "execution_count": 81
        }
      ]
    },
    {
      "cell_type": "markdown",
      "source": [
        "Как видим, жилье и имущество являются наиболее зависимыми колонками. Пока так же ничего примечательного. \n",
        "Для окончательного вывода посмотрим общую корреляцию всех признаков."
      ],
      "metadata": {
        "id": "Zm-xJfqS6HCd"
      }
    },
    {
      "cell_type": "code",
      "source": [
        "measurements = ['duration', 'credit_amount', 'installment_commitment', 'residence_since', 'age', 'existing_credits', 'num_dependents']"
      ],
      "metadata": {
        "id": "lMjZCpqT7m0Y"
      },
      "execution_count": 82,
      "outputs": []
    },
    {
      "cell_type": "code",
      "source": [
        "def correlation_ratio(categories, measurements):\n",
        "    fcat, _ = pd.factorize(categories)\n",
        "    cat_num = np.max(fcat)+1\n",
        "    y_avg_array = np.zeros(cat_num)\n",
        "    n_array = np.zeros(cat_num)\n",
        "    for i in range(0,cat_num):\n",
        "        cat_measures = measurements[np.argwhere(fcat == i).flatten()]\n",
        "        n_array[i] = len(cat_measures)\n",
        "        y_avg_array[i] = np.average(cat_measures)\n",
        "    y_total_avg = np.sum(np.multiply(y_avg_array,n_array))/np.sum(n_array)\n",
        "    numerator = np.sum(np.multiply(n_array,np.power(np.subtract(y_avg_array,y_total_avg),2)))\n",
        "    denominator = np.sum(np.power(np.subtract(measurements,y_total_avg),2))\n",
        "    if numerator == 0:\n",
        "        eta = 0.0\n",
        "    else:\n",
        "        eta = np.sqrt(numerator/denominator)\n",
        "    return eta"
      ],
      "metadata": {
        "id": "Wo31Rviv6gsB"
      },
      "execution_count": 83,
      "outputs": []
    },
    {
      "cell_type": "code",
      "source": [
        "corrDict = {}\n",
        "\n",
        "for i in categories:\n",
        "  for j in measurements:\n",
        "    k= i + '_' + j\n",
        "    corrDict[k] = correlation_ratio(Predictors_home[i], Predictors_home[j])\n",
        "\n",
        "# corrDict"
      ],
      "metadata": {
        "id": "KBDXiULf66xU"
      },
      "execution_count": 84,
      "outputs": []
    },
    {
      "cell_type": "code",
      "source": [
        "koefMoreHalf_corrDict = {key: value for key, value in corrDict.items() if value > 0.5}\n",
        "koefMoreHalf_corrDict"
      ],
      "metadata": {
        "colab": {
          "base_uri": "https://localhost:8080/"
        },
        "id": "pXq9Eab58LuN",
        "outputId": "bfdfcbf5-f9cd-47ff-bf83-88196d19eaea"
      },
      "execution_count": 85,
      "outputs": [
        {
          "output_type": "execute_result",
          "data": {
            "text/plain": [
              "{'credit_history_existing_credits': 0.595093979617754}"
            ]
          },
          "metadata": {},
          "execution_count": 85
        }
      ]
    },
    {
      "cell_type": "markdown",
      "source": [
        "Итого мы имеем следующие корреляционные зависимости, большие 0.5:\n",
        "\n",
        "1. Корреляция между числовыми и категориальными признаками: **credit_history и existing_credits:** 0.595093979617754\n",
        "2. Корреляция между категориальными и категориальными признаками: **housing и property_magnitude:** 0.5510116404863402\n",
        "3. Корреляция между числовыми признаками и числовыми признаками: **duration и credit_amount:** 0.62\n",
        "\n",
        "Пока что оставим эту информацию и попробуем воспользоваться этими данными позже.\n",
        "\n",
        "Напоследок посмотрим общую корреляцию с таргетом.\n"
      ],
      "metadata": {
        "id": "oidWcddS8uuq"
      }
    },
    {
      "cell_type": "code",
      "source": [
        "targetCorrDict = {}\n",
        "\n",
        "# Таргет и числовые\n",
        "for i in measurements:\n",
        "    k= 'target' + '_' + i\n",
        "    targetCorrDict[k] = correlation_ratio(Target_home, Predictors_home[i])\n",
        "\n",
        "# Таргет и категории\n",
        "for i in categories:\n",
        "    k= 'target' + '_' + i\n",
        "    targetCorrDict[k] = cramers_v(Target_home, Predictors_home[i])\n",
        "\n",
        "targetCorrDict"
      ],
      "metadata": {
        "id": "iXDDMBdhuQ6b",
        "colab": {
          "base_uri": "https://localhost:8080/"
        },
        "outputId": "34875d12-11d0-4a34-9b55-2e4f2f3a1b54"
      },
      "execution_count": 86,
      "outputs": [
        {
          "output_type": "execute_result",
          "data": {
            "text/plain": [
              "{'target_age': 0.09112740931949907,\n",
              " 'target_checking_status': 0.3476189010590424,\n",
              " 'target_credit_amount': 0.15473864110152377,\n",
              " 'target_credit_history': 0.24030230119486998,\n",
              " 'target_duration': 0.2149266654418908,\n",
              " 'target_employment': 0.11991106245316734,\n",
              " 'target_existing_credits': 0.04573248933920645,\n",
              " 'target_foreign_worker': 0.06946513621535383,\n",
              " 'target_housing': 0.12733448032933792,\n",
              " 'target_installment_commitment': 0.07240393725133044,\n",
              " 'target_job': 0.0,\n",
              " 'target_num_dependents': 0.003014853083344684,\n",
              " 'target_other_parties': 0.06817636837744626,\n",
              " 'target_other_payment_plans': 0.10415394681626368,\n",
              " 'target_own_telephone': 0.013104557655738317,\n",
              " 'target_personal_status': 0.08129468862215453,\n",
              " 'target_property_magnitude': 0.14400453584964393,\n",
              " 'target_purpose': 0.1561148105809381,\n",
              " 'target_residence_since': 0.0029671587541552726,\n",
              " 'target_savings_status': 0.17924029522149437}"
            ]
          },
          "metadata": {},
          "execution_count": 86
        }
      ]
    },
    {
      "cell_type": "markdown",
      "source": [
        "Каких-то явных зависимостей обнаружено не было.\n",
        "\n",
        "Теперь создадим дамми-переменные из категориальных типов."
      ],
      "metadata": {
        "id": "EacUOSYLp0HT"
      }
    },
    {
      "cell_type": "code",
      "source": [
        "# Создание копии оригинального датафрейма\n",
        "Predictors_dummies = Predictors_home.copy()\n",
        "Predictors_dummies = pd.get_dummies(Predictors_dummies, categories)\n",
        "Predictors_dummies.head(3)"
      ],
      "metadata": {
        "colab": {
          "base_uri": "https://localhost:8080/",
          "height": 271
        },
        "id": "Y0RRLlpTlbcp",
        "outputId": "8ab685c9-3dec-4a03-c4e9-58a4944b3044"
      },
      "execution_count": 87,
      "outputs": [
        {
          "output_type": "execute_result",
          "data": {
            "text/plain": [
              "   duration  credit_amount  installment_commitment  residence_since   age  \\\n",
              "0       6.0         1169.0                     4.0              4.0  67.0   \n",
              "1      48.0         5951.0                     2.0              2.0  22.0   \n",
              "2      12.0         2096.0                     2.0              3.0  49.0   \n",
              "\n",
              "   existing_credits  num_dependents  checking_status_<0  \\\n",
              "0               2.0             1.0                   1   \n",
              "1               1.0             1.0                   0   \n",
              "2               1.0             2.0                   0   \n",
              "\n",
              "   checking_status_0<=X<200  checking_status_>=200  ...  housing_own  \\\n",
              "0                         0                      0  ...            1   \n",
              "1                         1                      0  ...            1   \n",
              "2                         0                      0  ...            1   \n",
              "\n",
              "   housing_for free  job_unemp/unskilled non res  job_unskilled resident  \\\n",
              "0                 0                            0                       0   \n",
              "1                 0                            0                       0   \n",
              "2                 0                            0                       1   \n",
              "\n",
              "   job_skilled  job_high qualif/self emp/mgmt  own_telephone_none  \\\n",
              "0            1                              0                   0   \n",
              "1            1                              0                   1   \n",
              "2            0                              0                   1   \n",
              "\n",
              "   own_telephone_yes  foreign_worker_yes  foreign_worker_no  \n",
              "0                  1                   1                  0  \n",
              "1                  0                   1                  0  \n",
              "2                  0                   1                  0  \n",
              "\n",
              "[3 rows x 63 columns]"
            ],
            "text/html": [
              "\n",
              "  <div id=\"df-72ef7e4a-521b-42a3-8df5-4771ef4697dd\">\n",
              "    <div class=\"colab-df-container\">\n",
              "      <div>\n",
              "<style scoped>\n",
              "    .dataframe tbody tr th:only-of-type {\n",
              "        vertical-align: middle;\n",
              "    }\n",
              "\n",
              "    .dataframe tbody tr th {\n",
              "        vertical-align: top;\n",
              "    }\n",
              "\n",
              "    .dataframe thead th {\n",
              "        text-align: right;\n",
              "    }\n",
              "</style>\n",
              "<table border=\"1\" class=\"dataframe\">\n",
              "  <thead>\n",
              "    <tr style=\"text-align: right;\">\n",
              "      <th></th>\n",
              "      <th>duration</th>\n",
              "      <th>credit_amount</th>\n",
              "      <th>installment_commitment</th>\n",
              "      <th>residence_since</th>\n",
              "      <th>age</th>\n",
              "      <th>existing_credits</th>\n",
              "      <th>num_dependents</th>\n",
              "      <th>checking_status_&lt;0</th>\n",
              "      <th>checking_status_0&lt;=X&lt;200</th>\n",
              "      <th>checking_status_&gt;=200</th>\n",
              "      <th>...</th>\n",
              "      <th>housing_own</th>\n",
              "      <th>housing_for free</th>\n",
              "      <th>job_unemp/unskilled non res</th>\n",
              "      <th>job_unskilled resident</th>\n",
              "      <th>job_skilled</th>\n",
              "      <th>job_high qualif/self emp/mgmt</th>\n",
              "      <th>own_telephone_none</th>\n",
              "      <th>own_telephone_yes</th>\n",
              "      <th>foreign_worker_yes</th>\n",
              "      <th>foreign_worker_no</th>\n",
              "    </tr>\n",
              "  </thead>\n",
              "  <tbody>\n",
              "    <tr>\n",
              "      <th>0</th>\n",
              "      <td>6.0</td>\n",
              "      <td>1169.0</td>\n",
              "      <td>4.0</td>\n",
              "      <td>4.0</td>\n",
              "      <td>67.0</td>\n",
              "      <td>2.0</td>\n",
              "      <td>1.0</td>\n",
              "      <td>1</td>\n",
              "      <td>0</td>\n",
              "      <td>0</td>\n",
              "      <td>...</td>\n",
              "      <td>1</td>\n",
              "      <td>0</td>\n",
              "      <td>0</td>\n",
              "      <td>0</td>\n",
              "      <td>1</td>\n",
              "      <td>0</td>\n",
              "      <td>0</td>\n",
              "      <td>1</td>\n",
              "      <td>1</td>\n",
              "      <td>0</td>\n",
              "    </tr>\n",
              "    <tr>\n",
              "      <th>1</th>\n",
              "      <td>48.0</td>\n",
              "      <td>5951.0</td>\n",
              "      <td>2.0</td>\n",
              "      <td>2.0</td>\n",
              "      <td>22.0</td>\n",
              "      <td>1.0</td>\n",
              "      <td>1.0</td>\n",
              "      <td>0</td>\n",
              "      <td>1</td>\n",
              "      <td>0</td>\n",
              "      <td>...</td>\n",
              "      <td>1</td>\n",
              "      <td>0</td>\n",
              "      <td>0</td>\n",
              "      <td>0</td>\n",
              "      <td>1</td>\n",
              "      <td>0</td>\n",
              "      <td>1</td>\n",
              "      <td>0</td>\n",
              "      <td>1</td>\n",
              "      <td>0</td>\n",
              "    </tr>\n",
              "    <tr>\n",
              "      <th>2</th>\n",
              "      <td>12.0</td>\n",
              "      <td>2096.0</td>\n",
              "      <td>2.0</td>\n",
              "      <td>3.0</td>\n",
              "      <td>49.0</td>\n",
              "      <td>1.0</td>\n",
              "      <td>2.0</td>\n",
              "      <td>0</td>\n",
              "      <td>0</td>\n",
              "      <td>0</td>\n",
              "      <td>...</td>\n",
              "      <td>1</td>\n",
              "      <td>0</td>\n",
              "      <td>0</td>\n",
              "      <td>1</td>\n",
              "      <td>0</td>\n",
              "      <td>0</td>\n",
              "      <td>1</td>\n",
              "      <td>0</td>\n",
              "      <td>1</td>\n",
              "      <td>0</td>\n",
              "    </tr>\n",
              "  </tbody>\n",
              "</table>\n",
              "<p>3 rows × 63 columns</p>\n",
              "</div>\n",
              "      <button class=\"colab-df-convert\" onclick=\"convertToInteractive('df-72ef7e4a-521b-42a3-8df5-4771ef4697dd')\"\n",
              "              title=\"Convert this dataframe to an interactive table.\"\n",
              "              style=\"display:none;\">\n",
              "        \n",
              "  <svg xmlns=\"http://www.w3.org/2000/svg\" height=\"24px\"viewBox=\"0 0 24 24\"\n",
              "       width=\"24px\">\n",
              "    <path d=\"M0 0h24v24H0V0z\" fill=\"none\"/>\n",
              "    <path d=\"M18.56 5.44l.94 2.06.94-2.06 2.06-.94-2.06-.94-.94-2.06-.94 2.06-2.06.94zm-11 1L8.5 8.5l.94-2.06 2.06-.94-2.06-.94L8.5 2.5l-.94 2.06-2.06.94zm10 10l.94 2.06.94-2.06 2.06-.94-2.06-.94-.94-2.06-.94 2.06-2.06.94z\"/><path d=\"M17.41 7.96l-1.37-1.37c-.4-.4-.92-.59-1.43-.59-.52 0-1.04.2-1.43.59L10.3 9.45l-7.72 7.72c-.78.78-.78 2.05 0 2.83L4 21.41c.39.39.9.59 1.41.59.51 0 1.02-.2 1.41-.59l7.78-7.78 2.81-2.81c.8-.78.8-2.07 0-2.86zM5.41 20L4 18.59l7.72-7.72 1.47 1.35L5.41 20z\"/>\n",
              "  </svg>\n",
              "      </button>\n",
              "      \n",
              "  <style>\n",
              "    .colab-df-container {\n",
              "      display:flex;\n",
              "      flex-wrap:wrap;\n",
              "      gap: 12px;\n",
              "    }\n",
              "\n",
              "    .colab-df-convert {\n",
              "      background-color: #E8F0FE;\n",
              "      border: none;\n",
              "      border-radius: 50%;\n",
              "      cursor: pointer;\n",
              "      display: none;\n",
              "      fill: #1967D2;\n",
              "      height: 32px;\n",
              "      padding: 0 0 0 0;\n",
              "      width: 32px;\n",
              "    }\n",
              "\n",
              "    .colab-df-convert:hover {\n",
              "      background-color: #E2EBFA;\n",
              "      box-shadow: 0px 1px 2px rgba(60, 64, 67, 0.3), 0px 1px 3px 1px rgba(60, 64, 67, 0.15);\n",
              "      fill: #174EA6;\n",
              "    }\n",
              "\n",
              "    [theme=dark] .colab-df-convert {\n",
              "      background-color: #3B4455;\n",
              "      fill: #D2E3FC;\n",
              "    }\n",
              "\n",
              "    [theme=dark] .colab-df-convert:hover {\n",
              "      background-color: #434B5C;\n",
              "      box-shadow: 0px 1px 3px 1px rgba(0, 0, 0, 0.15);\n",
              "      filter: drop-shadow(0px 1px 2px rgba(0, 0, 0, 0.3));\n",
              "      fill: #FFFFFF;\n",
              "    }\n",
              "  </style>\n",
              "\n",
              "      <script>\n",
              "        const buttonEl =\n",
              "          document.querySelector('#df-72ef7e4a-521b-42a3-8df5-4771ef4697dd button.colab-df-convert');\n",
              "        buttonEl.style.display =\n",
              "          google.colab.kernel.accessAllowed ? 'block' : 'none';\n",
              "\n",
              "        async function convertToInteractive(key) {\n",
              "          const element = document.querySelector('#df-72ef7e4a-521b-42a3-8df5-4771ef4697dd');\n",
              "          const dataTable =\n",
              "            await google.colab.kernel.invokeFunction('convertToInteractive',\n",
              "                                                     [key], {});\n",
              "          if (!dataTable) return;\n",
              "\n",
              "          const docLinkHtml = 'Like what you see? Visit the ' +\n",
              "            '<a target=\"_blank\" href=https://colab.research.google.com/notebooks/data_table.ipynb>data table notebook</a>'\n",
              "            + ' to learn more about interactive tables.';\n",
              "          element.innerHTML = '';\n",
              "          dataTable['output_type'] = 'display_data';\n",
              "          await google.colab.output.renderOutput(dataTable, element);\n",
              "          const docLink = document.createElement('div');\n",
              "          docLink.innerHTML = docLinkHtml;\n",
              "          element.appendChild(docLink);\n",
              "        }\n",
              "      </script>\n",
              "    </div>\n",
              "  </div>\n",
              "  "
            ]
          },
          "metadata": {},
          "execution_count": 87
        }
      ]
    },
    {
      "cell_type": "code",
      "source": [
        "Predictors_dummies = Predictors_dummies[Predictors_dummies.columns].astype('float')"
      ],
      "metadata": {
        "id": "iNc1kic3-gB-"
      },
      "execution_count": 88,
      "outputs": []
    },
    {
      "cell_type": "code",
      "source": [
        "Predictors_dummies.info()"
      ],
      "metadata": {
        "colab": {
          "base_uri": "https://localhost:8080/"
        },
        "id": "nAgGnt0l-x5O",
        "outputId": "5ac842da-0d0f-41a4-dfae-35c937905b94"
      },
      "execution_count": 89,
      "outputs": [
        {
          "output_type": "stream",
          "name": "stdout",
          "text": [
            "<class 'pandas.core.frame.DataFrame'>\n",
            "RangeIndex: 1000 entries, 0 to 999\n",
            "Data columns (total 63 columns):\n",
            " #   Column                                         Non-Null Count  Dtype  \n",
            "---  ------                                         --------------  -----  \n",
            " 0   duration                                       1000 non-null   float64\n",
            " 1   credit_amount                                  1000 non-null   float64\n",
            " 2   installment_commitment                         1000 non-null   float64\n",
            " 3   residence_since                                1000 non-null   float64\n",
            " 4   age                                            1000 non-null   float64\n",
            " 5   existing_credits                               1000 non-null   float64\n",
            " 6   num_dependents                                 1000 non-null   float64\n",
            " 7   checking_status_<0                             1000 non-null   float64\n",
            " 8   checking_status_0<=X<200                       1000 non-null   float64\n",
            " 9   checking_status_>=200                          1000 non-null   float64\n",
            " 10  checking_status_no checking                    1000 non-null   float64\n",
            " 11  credit_history_no credits/all paid             1000 non-null   float64\n",
            " 12  credit_history_all paid                        1000 non-null   float64\n",
            " 13  credit_history_existing paid                   1000 non-null   float64\n",
            " 14  credit_history_delayed previously              1000 non-null   float64\n",
            " 15  credit_history_critical/other existing credit  1000 non-null   float64\n",
            " 16  purpose_new car                                1000 non-null   float64\n",
            " 17  purpose_used car                               1000 non-null   float64\n",
            " 18  purpose_furniture/equipment                    1000 non-null   float64\n",
            " 19  purpose_radio/tv                               1000 non-null   float64\n",
            " 20  purpose_domestic appliance                     1000 non-null   float64\n",
            " 21  purpose_repairs                                1000 non-null   float64\n",
            " 22  purpose_education                              1000 non-null   float64\n",
            " 23  purpose_vacation                               1000 non-null   float64\n",
            " 24  purpose_retraining                             1000 non-null   float64\n",
            " 25  purpose_business                               1000 non-null   float64\n",
            " 26  purpose_other                                  1000 non-null   float64\n",
            " 27  savings_status_<100                            1000 non-null   float64\n",
            " 28  savings_status_100<=X<500                      1000 non-null   float64\n",
            " 29  savings_status_500<=X<1000                     1000 non-null   float64\n",
            " 30  savings_status_>=1000                          1000 non-null   float64\n",
            " 31  savings_status_no known savings                1000 non-null   float64\n",
            " 32  employment_unemployed                          1000 non-null   float64\n",
            " 33  employment_<1                                  1000 non-null   float64\n",
            " 34  employment_1<=X<4                              1000 non-null   float64\n",
            " 35  employment_4<=X<7                              1000 non-null   float64\n",
            " 36  employment_>=7                                 1000 non-null   float64\n",
            " 37  personal_status_male div/sep                   1000 non-null   float64\n",
            " 38  personal_status_female div/dep/mar             1000 non-null   float64\n",
            " 39  personal_status_male single                    1000 non-null   float64\n",
            " 40  personal_status_male mar/wid                   1000 non-null   float64\n",
            " 41  personal_status_female single                  1000 non-null   float64\n",
            " 42  other_parties_none                             1000 non-null   float64\n",
            " 43  other_parties_co applicant                     1000 non-null   float64\n",
            " 44  other_parties_guarantor                        1000 non-null   float64\n",
            " 45  property_magnitude_real estate                 1000 non-null   float64\n",
            " 46  property_magnitude_life insurance              1000 non-null   float64\n",
            " 47  property_magnitude_car                         1000 non-null   float64\n",
            " 48  property_magnitude_no known property           1000 non-null   float64\n",
            " 49  other_payment_plans_bank                       1000 non-null   float64\n",
            " 50  other_payment_plans_stores                     1000 non-null   float64\n",
            " 51  other_payment_plans_none                       1000 non-null   float64\n",
            " 52  housing_rent                                   1000 non-null   float64\n",
            " 53  housing_own                                    1000 non-null   float64\n",
            " 54  housing_for free                               1000 non-null   float64\n",
            " 55  job_unemp/unskilled non res                    1000 non-null   float64\n",
            " 56  job_unskilled resident                         1000 non-null   float64\n",
            " 57  job_skilled                                    1000 non-null   float64\n",
            " 58  job_high qualif/self emp/mgmt                  1000 non-null   float64\n",
            " 59  own_telephone_none                             1000 non-null   float64\n",
            " 60  own_telephone_yes                              1000 non-null   float64\n",
            " 61  foreign_worker_yes                             1000 non-null   float64\n",
            " 62  foreign_worker_no                              1000 non-null   float64\n",
            "dtypes: float64(63)\n",
            "memory usage: 492.3 KB\n"
          ]
        }
      ]
    },
    {
      "cell_type": "code",
      "source": [
        "list_null = [print(i) for i in range(61) if sum(Predictors_dummies.iloc[:, i]) == 0]\n",
        "print(list_null)"
      ],
      "metadata": {
        "colab": {
          "base_uri": "https://localhost:8080/"
        },
        "id": "0vNOKSjevNPp",
        "outputId": "56f5f36e-a4be-4633-af4a-a52417db5cef"
      },
      "execution_count": 90,
      "outputs": [
        {
          "output_type": "stream",
          "name": "stdout",
          "text": [
            "23\n",
            "41\n",
            "[None, None]\n"
          ]
        }
      ]
    },
    {
      "cell_type": "code",
      "source": [
        "Predictors_dummies = Predictors_dummies.drop(['personal_status_female single', 'purpose_vacation'], 1)"
      ],
      "metadata": {
        "colab": {
          "base_uri": "https://localhost:8080/"
        },
        "id": "HoQUO5actX6v",
        "outputId": "f9bcba35-3116-4e06-b618-5db147ecea7a"
      },
      "execution_count": 91,
      "outputs": [
        {
          "output_type": "stream",
          "name": "stderr",
          "text": [
            "/usr/local/lib/python3.7/dist-packages/ipykernel_launcher.py:1: FutureWarning: In a future version of pandas all arguments of DataFrame.drop except for the argument 'labels' will be keyword-only\n",
            "  \"\"\"Entry point for launching an IPython kernel.\n"
          ]
        }
      ]
    },
    {
      "cell_type": "code",
      "source": [
        "Target_home"
      ],
      "metadata": {
        "colab": {
          "base_uri": "https://localhost:8080/"
        },
        "id": "R4pfSm5zOJaG",
        "outputId": "aaa91210-7c8b-45fb-cd18-6bd1fe7b264b"
      },
      "execution_count": 92,
      "outputs": [
        {
          "output_type": "execute_result",
          "data": {
            "text/plain": [
              "0      good\n",
              "1       bad\n",
              "2      good\n",
              "3      good\n",
              "4       bad\n",
              "       ... \n",
              "995    good\n",
              "996    good\n",
              "997    good\n",
              "998     bad\n",
              "999    good\n",
              "Name: class, Length: 1000, dtype: category\n",
              "Categories (2, object): ['good', 'bad']"
            ]
          },
          "metadata": {},
          "execution_count": 92
        }
      ]
    },
    {
      "cell_type": "code",
      "source": [
        "# Преобразуем таргет\n",
        "Target_dict = {'good': 1, 'bad': 0}\n",
        "unique_targets = list(set(Target_home))\n",
        "Target_dummies = Target_home.replace(to_replace=unique_targets, value=list(Target_dict.values()))"
      ],
      "metadata": {
        "id": "OTiUYTPJOn9L"
      },
      "execution_count": 93,
      "outputs": []
    },
    {
      "cell_type": "code",
      "source": [
        "# Посмотрим на сбалансированность данных\n",
        "plt.hist(Target_dummies)\n",
        "print(Target_dict)"
      ],
      "metadata": {
        "colab": {
          "base_uri": "https://localhost:8080/",
          "height": 473
        },
        "id": "yAC9SpPsmLBj",
        "outputId": "7b0def35-1a4d-42a2-de68-5d7a40d01913"
      },
      "execution_count": 94,
      "outputs": [
        {
          "output_type": "stream",
          "name": "stdout",
          "text": [
            "{'good': 1, 'bad': 0}\n"
          ]
        },
        {
          "output_type": "display_data",
          "data": {
            "text/plain": [
              "<Figure size 720x540 with 1 Axes>"
            ],
            "image/png": "[encoded data removed]"
          },
          "metadata": {}
        }
      ]
    },
    {
      "cell_type": "markdown",
      "source": [
        "Плохих дебиторов больше, чем хороших. Балансировка составляет 700 плохих дебиторов к 300 хорошим. Попробуем изменить баланс."
      ],
      "metadata": {
        "id": "rN9OM6miP6lv"
      }
    },
    {
      "cell_type": "code",
      "source": [
        "biggerDF = pd.concat([Predictors_dummies, Target_dummies], axis=1)"
      ],
      "metadata": {
        "id": "c8db2kGfWBFb"
      },
      "execution_count": 95,
      "outputs": []
    },
    {
      "cell_type": "code",
      "source": [
        "rat = 700//300\n",
        "bigger_df = biggerDF.loc[biggerDF['class']==0]\n",
        "bigger_df = bigger_df.loc[bigger_df.index.repeat(rat)]\n",
        "biggerDF_modified = pd.concat([biggerDF.loc[biggerDF['class']==1], bigger_df]).sample(frac=1)\n",
        "biggerDF_modified.head(3)"
      ],
      "metadata": {
        "colab": {
          "base_uri": "https://localhost:8080/",
          "height": 271
        },
        "id": "9chI37XnSEDm",
        "outputId": "8fc1bbfd-5df8-4ed5-d390-285cd7a29b6a"
      },
      "execution_count": 96,
      "outputs": [
        {
          "output_type": "execute_result",
          "data": {
            "text/plain": [
              "     duration  credit_amount  installment_commitment  residence_since   age  \\\n",
              "365      12.0         1542.0                     2.0              4.0  36.0   \n",
              "244      12.0         3447.0                     4.0              3.0  35.0   \n",
              "474      18.0         1245.0                     4.0              2.0  33.0   \n",
              "\n",
              "     existing_credits  num_dependents  checking_status_<0  \\\n",
              "365               1.0             1.0                 0.0   \n",
              "244               1.0             2.0                 0.0   \n",
              "474               1.0             1.0                 0.0   \n",
              "\n",
              "     checking_status_0<=X<200  checking_status_>=200  ...  housing_for free  \\\n",
              "365                       0.0                    0.0  ...               0.0   \n",
              "244                       0.0                    0.0  ...               0.0   \n",
              "474                       1.0                    0.0  ...               0.0   \n",
              "\n",
              "     job_unemp/unskilled non res  job_unskilled resident  job_skilled  \\\n",
              "365                          0.0                     0.0          1.0   \n",
              "244                          0.0                     1.0          0.0   \n",
              "474                          0.0                     0.0          1.0   \n",
              "\n",
              "     job_high qualif/self emp/mgmt  own_telephone_none  own_telephone_yes  \\\n",
              "365                            0.0                 0.0                1.0   \n",
              "244                            0.0                 1.0                0.0   \n",
              "474                            0.0                 1.0                0.0   \n",
              "\n",
              "     foreign_worker_yes  foreign_worker_no  class  \n",
              "365                 1.0                0.0      1  \n",
              "244                 1.0                0.0      1  \n",
              "474                 1.0                0.0      0  \n",
              "\n",
              "[3 rows x 62 columns]"
            ],
            "text/html": [
              "\n",
              "  <div id=\"df-441e4ad9-9fa7-4820-847b-6d5562fc7dfd\">\n",
              "    <div class=\"colab-df-container\">\n",
              "      <div>\n",
              "<style scoped>\n",
              "    .dataframe tbody tr th:only-of-type {\n",
              "        vertical-align: middle;\n",
              "    }\n",
              "\n",
              "    .dataframe tbody tr th {\n",
              "        vertical-align: top;\n",
              "    }\n",
              "\n",
              "    .dataframe thead th {\n",
              "        text-align: right;\n",
              "    }\n",
              "</style>\n",
              "<table border=\"1\" class=\"dataframe\">\n",
              "  <thead>\n",
              "    <tr style=\"text-align: right;\">\n",
              "      <th></th>\n",
              "      <th>duration</th>\n",
              "      <th>credit_amount</th>\n",
              "      <th>installment_commitment</th>\n",
              "      <th>residence_since</th>\n",
              "      <th>age</th>\n",
              "      <th>existing_credits</th>\n",
              "      <th>num_dependents</th>\n",
              "      <th>checking_status_&lt;0</th>\n",
              "      <th>checking_status_0&lt;=X&lt;200</th>\n",
              "      <th>checking_status_&gt;=200</th>\n",
              "      <th>...</th>\n",
              "      <th>housing_for free</th>\n",
              "      <th>job_unemp/unskilled non res</th>\n",
              "      <th>job_unskilled resident</th>\n",
              "      <th>job_skilled</th>\n",
              "      <th>job_high qualif/self emp/mgmt</th>\n",
              "      <th>own_telephone_none</th>\n",
              "      <th>own_telephone_yes</th>\n",
              "      <th>foreign_worker_yes</th>\n",
              "      <th>foreign_worker_no</th>\n",
              "      <th>class</th>\n",
              "    </tr>\n",
              "  </thead>\n",
              "  <tbody>\n",
              "    <tr>\n",
              "      <th>365</th>\n",
              "      <td>12.0</td>\n",
              "      <td>1542.0</td>\n",
              "      <td>2.0</td>\n",
              "      <td>4.0</td>\n",
              "      <td>36.0</td>\n",
              "      <td>1.0</td>\n",
              "      <td>1.0</td>\n",
              "      <td>0.0</td>\n",
              "      <td>0.0</td>\n",
              "      <td>0.0</td>\n",
              "      <td>...</td>\n",
              "      <td>0.0</td>\n",
              "      <td>0.0</td>\n",
              "      <td>0.0</td>\n",
              "      <td>1.0</td>\n",
              "      <td>0.0</td>\n",
              "      <td>0.0</td>\n",
              "      <td>1.0</td>\n",
              "      <td>1.0</td>\n",
              "      <td>0.0</td>\n",
              "      <td>1</td>\n",
              "    </tr>\n",
              "    <tr>\n",
              "      <th>244</th>\n",
              "      <td>12.0</td>\n",
              "      <td>3447.0</td>\n",
              "      <td>4.0</td>\n",
              "      <td>3.0</td>\n",
              "      <td>35.0</td>\n",
              "      <td>1.0</td>\n",
              "      <td>2.0</td>\n",
              "      <td>0.0</td>\n",
              "      <td>0.0</td>\n",
              "      <td>0.0</td>\n",
              "      <td>...</td>\n",
              "      <td>0.0</td>\n",
              "      <td>0.0</td>\n",
              "      <td>1.0</td>\n",
              "      <td>0.0</td>\n",
              "      <td>0.0</td>\n",
              "      <td>1.0</td>\n",
              "      <td>0.0</td>\n",
              "      <td>1.0</td>\n",
              "      <td>0.0</td>\n",
              "      <td>1</td>\n",
              "    </tr>\n",
              "    <tr>\n",
              "      <th>474</th>\n",
              "      <td>18.0</td>\n",
              "      <td>1245.0</td>\n",
              "      <td>4.0</td>\n",
              "      <td>2.0</td>\n",
              "      <td>33.0</td>\n",
              "      <td>1.0</td>\n",
              "      <td>1.0</td>\n",
              "      <td>0.0</td>\n",
              "      <td>1.0</td>\n",
              "      <td>0.0</td>\n",
              "      <td>...</td>\n",
              "      <td>0.0</td>\n",
              "      <td>0.0</td>\n",
              "      <td>0.0</td>\n",
              "      <td>1.0</td>\n",
              "      <td>0.0</td>\n",
              "      <td>1.0</td>\n",
              "      <td>0.0</td>\n",
              "      <td>1.0</td>\n",
              "      <td>0.0</td>\n",
              "      <td>0</td>\n",
              "    </tr>\n",
              "  </tbody>\n",
              "</table>\n",
              "<p>3 rows × 62 columns</p>\n",
              "</div>\n",
              "      <button class=\"colab-df-convert\" onclick=\"convertToInteractive('df-441e4ad9-9fa7-4820-847b-6d5562fc7dfd')\"\n",
              "              title=\"Convert this dataframe to an interactive table.\"\n",
              "              style=\"display:none;\">\n",
              "        \n",
              "  <svg xmlns=\"http://www.w3.org/2000/svg\" height=\"24px\"viewBox=\"0 0 24 24\"\n",
              "       width=\"24px\">\n",
              "    <path d=\"M0 0h24v24H0V0z\" fill=\"none\"/>\n",
              "    <path d=\"M18.56 5.44l.94 2.06.94-2.06 2.06-.94-2.06-.94-.94-2.06-.94 2.06-2.06.94zm-11 1L8.5 8.5l.94-2.06 2.06-.94-2.06-.94L8.5 2.5l-.94 2.06-2.06.94zm10 10l.94 2.06.94-2.06 2.06-.94-2.06-.94-.94-2.06-.94 2.06-2.06.94z\"/><path d=\"M17.41 7.96l-1.37-1.37c-.4-.4-.92-.59-1.43-.59-.52 0-1.04.2-1.43.59L10.3 9.45l-7.72 7.72c-.78.78-.78 2.05 0 2.83L4 21.41c.39.39.9.59 1.41.59.51 0 1.02-.2 1.41-.59l7.78-7.78 2.81-2.81c.8-.78.8-2.07 0-2.86zM5.41 20L4 18.59l7.72-7.72 1.47 1.35L5.41 20z\"/>\n",
              "  </svg>\n",
              "      </button>\n",
              "      \n",
              "  <style>\n",
              "    .colab-df-container {\n",
              "      display:flex;\n",
              "      flex-wrap:wrap;\n",
              "      gap: 12px;\n",
              "    }\n",
              "\n",
              "    .colab-df-convert {\n",
              "      background-color: #E8F0FE;\n",
              "      border: none;\n",
              "      border-radius: 50%;\n",
              "      cursor: pointer;\n",
              "      display: none;\n",
              "      fill: #1967D2;\n",
              "      height: 32px;\n",
              "      padding: 0 0 0 0;\n",
              "      width: 32px;\n",
              "    }\n",
              "\n",
              "    .colab-df-convert:hover {\n",
              "      background-color: #E2EBFA;\n",
              "      box-shadow: 0px 1px 2px rgba(60, 64, 67, 0.3), 0px 1px 3px 1px rgba(60, 64, 67, 0.15);\n",
              "      fill: #174EA6;\n",
              "    }\n",
              "\n",
              "    [theme=dark] .colab-df-convert {\n",
              "      background-color: #3B4455;\n",
              "      fill: #D2E3FC;\n",
              "    }\n",
              "\n",
              "    [theme=dark] .colab-df-convert:hover {\n",
              "      background-color: #434B5C;\n",
              "      box-shadow: 0px 1px 3px 1px rgba(0, 0, 0, 0.15);\n",
              "      filter: drop-shadow(0px 1px 2px rgba(0, 0, 0, 0.3));\n",
              "      fill: #FFFFFF;\n",
              "    }\n",
              "  </style>\n",
              "\n",
              "      <script>\n",
              "        const buttonEl =\n",
              "          document.querySelector('#df-441e4ad9-9fa7-4820-847b-6d5562fc7dfd button.colab-df-convert');\n",
              "        buttonEl.style.display =\n",
              "          google.colab.kernel.accessAllowed ? 'block' : 'none';\n",
              "\n",
              "        async function convertToInteractive(key) {\n",
              "          const element = document.querySelector('#df-441e4ad9-9fa7-4820-847b-6d5562fc7dfd');\n",
              "          const dataTable =\n",
              "            await google.colab.kernel.invokeFunction('convertToInteractive',\n",
              "                                                     [key], {});\n",
              "          if (!dataTable) return;\n",
              "\n",
              "          const docLinkHtml = 'Like what you see? Visit the ' +\n",
              "            '<a target=\"_blank\" href=https://colab.research.google.com/notebooks/data_table.ipynb>data table notebook</a>'\n",
              "            + ' to learn more about interactive tables.';\n",
              "          element.innerHTML = '';\n",
              "          dataTable['output_type'] = 'display_data';\n",
              "          await google.colab.output.renderOutput(dataTable, element);\n",
              "          const docLink = document.createElement('div');\n",
              "          docLink.innerHTML = docLinkHtml;\n",
              "          element.appendChild(docLink);\n",
              "        }\n",
              "      </script>\n",
              "    </div>\n",
              "  </div>\n",
              "  "
            ]
          },
          "metadata": {},
          "execution_count": 96
        }
      ]
    },
    {
      "cell_type": "markdown",
      "source": [
        ""
      ],
      "metadata": {
        "id": "oNbsDXIrm_Kq"
      }
    },
    {
      "cell_type": "code",
      "source": [
        "len_1 = len(biggerDF_modified.loc[biggerDF_modified['class']==0])\n",
        "len_2 = len(biggerDF_modified.loc[biggerDF_modified['class']==1])\n",
        "print(len_1, len_2)\n",
        "\n",
        "# Посмотрим на сбалансированность данных\n",
        "plt.hist(biggerDF_modified['class'])"
      ],
      "metadata": {
        "colab": {
          "base_uri": "https://localhost:8080/",
          "height": 525
        },
        "id": "mqV5IAiFXfd5",
        "outputId": "6e54dd2d-c266-45a4-fe30-382fc256d0cb"
      },
      "execution_count": 97,
      "outputs": [
        {
          "output_type": "stream",
          "name": "stdout",
          "text": [
            "600 700\n"
          ]
        },
        {
          "output_type": "execute_result",
          "data": {
            "text/plain": [
              "(array([600.,   0.,   0.,   0.,   0.,   0.,   0.,   0.,   0., 700.]),\n",
              " array([0. , 0.1, 0.2, 0.3, 0.4, 0.5, 0.6, 0.7, 0.8, 0.9, 1. ]),\n",
              " <a list of 10 Patch objects>)"
            ]
          },
          "metadata": {},
          "execution_count": 97
        },
        {
          "output_type": "display_data",
          "data": {
            "text/plain": [
              "<Figure size 720x540 with 1 Axes>"
            ],
            "image/png": "[encoded data removed]"
          },
          "metadata": {}
        }
      ]
    },
    {
      "cell_type": "markdown",
      "source": [
        "Как видим, нам удалось немного сбалансировать данные. Теперь разделим выборки на обучающую и тестовую."
      ],
      "metadata": {
        "id": "h0Vj_boAY0AL"
      }
    },
    {
      "cell_type": "code",
      "source": [
        "index_list = np.asarray([i for i in range(len(biggerDF_modified))])\n",
        "\n",
        "Predictors_dummies = pd.DataFrame(biggerDF_modified.iloc[:, :-1].values, index=index_list)\n",
        "Target_dummies = pd.Series(biggerDF_modified['class'].values, index=index_list)\n",
        "\n",
        "Predictors_dummies.head(3)"
      ],
      "metadata": {
        "colab": {
          "base_uri": "https://localhost:8080/",
          "height": 173
        },
        "id": "5uG4AWKeZnJh",
        "outputId": "2519a139-6c8e-432d-a6d1-5a478b5f6f30"
      },
      "execution_count": 98,
      "outputs": [
        {
          "output_type": "execute_result",
          "data": {
            "text/plain": [
              "     0       1    2    3     4    5    6    7    8    9   ...   51   52   53  \\\n",
              "0  12.0  1542.0  2.0  4.0  36.0  1.0  1.0  0.0  0.0  0.0  ...  1.0  0.0  0.0   \n",
              "1  12.0  3447.0  4.0  3.0  35.0  1.0  2.0  0.0  0.0  0.0  ...  1.0  0.0  0.0   \n",
              "2  18.0  1245.0  4.0  2.0  33.0  1.0  1.0  0.0  1.0  0.0  ...  1.0  0.0  0.0   \n",
              "\n",
              "    54   55   56   57   58   59   60  \n",
              "0  0.0  1.0  0.0  0.0  1.0  1.0  0.0  \n",
              "1  1.0  0.0  0.0  1.0  0.0  1.0  0.0  \n",
              "2  0.0  1.0  0.0  1.0  0.0  1.0  0.0  \n",
              "\n",
              "[3 rows x 61 columns]"
            ],
            "text/html": [
              "\n",
              "  <div id=\"df-9d588b4f-a0bd-47e2-8e99-ce12ee68f9d3\">\n",
              "    <div class=\"colab-df-container\">\n",
              "      <div>\n",
              "<style scoped>\n",
              "    .dataframe tbody tr th:only-of-type {\n",
              "        vertical-align: middle;\n",
              "    }\n",
              "\n",
              "    .dataframe tbody tr th {\n",
              "        vertical-align: top;\n",
              "    }\n",
              "\n",
              "    .dataframe thead th {\n",
              "        text-align: right;\n",
              "    }\n",
              "</style>\n",
              "<table border=\"1\" class=\"dataframe\">\n",
              "  <thead>\n",
              "    <tr style=\"text-align: right;\">\n",
              "      <th></th>\n",
              "      <th>0</th>\n",
              "      <th>1</th>\n",
              "      <th>2</th>\n",
              "      <th>3</th>\n",
              "      <th>4</th>\n",
              "      <th>5</th>\n",
              "      <th>6</th>\n",
              "      <th>7</th>\n",
              "      <th>8</th>\n",
              "      <th>9</th>\n",
              "      <th>...</th>\n",
              "      <th>51</th>\n",
              "      <th>52</th>\n",
              "      <th>53</th>\n",
              "      <th>54</th>\n",
              "      <th>55</th>\n",
              "      <th>56</th>\n",
              "      <th>57</th>\n",
              "      <th>58</th>\n",
              "      <th>59</th>\n",
              "      <th>60</th>\n",
              "    </tr>\n",
              "  </thead>\n",
              "  <tbody>\n",
              "    <tr>\n",
              "      <th>0</th>\n",
              "      <td>12.0</td>\n",
              "      <td>1542.0</td>\n",
              "      <td>2.0</td>\n",
              "      <td>4.0</td>\n",
              "      <td>36.0</td>\n",
              "      <td>1.0</td>\n",
              "      <td>1.0</td>\n",
              "      <td>0.0</td>\n",
              "      <td>0.0</td>\n",
              "      <td>0.0</td>\n",
              "      <td>...</td>\n",
              "      <td>1.0</td>\n",
              "      <td>0.0</td>\n",
              "      <td>0.0</td>\n",
              "      <td>0.0</td>\n",
              "      <td>1.0</td>\n",
              "      <td>0.0</td>\n",
              "      <td>0.0</td>\n",
              "      <td>1.0</td>\n",
              "      <td>1.0</td>\n",
              "      <td>0.0</td>\n",
              "    </tr>\n",
              "    <tr>\n",
              "      <th>1</th>\n",
              "      <td>12.0</td>\n",
              "      <td>3447.0</td>\n",
              "      <td>4.0</td>\n",
              "      <td>3.0</td>\n",
              "      <td>35.0</td>\n",
              "      <td>1.0</td>\n",
              "      <td>2.0</td>\n",
              "      <td>0.0</td>\n",
              "      <td>0.0</td>\n",
              "      <td>0.0</td>\n",
              "      <td>...</td>\n",
              "      <td>1.0</td>\n",
              "      <td>0.0</td>\n",
              "      <td>0.0</td>\n",
              "      <td>1.0</td>\n",
              "      <td>0.0</td>\n",
              "      <td>0.0</td>\n",
              "      <td>1.0</td>\n",
              "      <td>0.0</td>\n",
              "      <td>1.0</td>\n",
              "      <td>0.0</td>\n",
              "    </tr>\n",
              "    <tr>\n",
              "      <th>2</th>\n",
              "      <td>18.0</td>\n",
              "      <td>1245.0</td>\n",
              "      <td>4.0</td>\n",
              "      <td>2.0</td>\n",
              "      <td>33.0</td>\n",
              "      <td>1.0</td>\n",
              "      <td>1.0</td>\n",
              "      <td>0.0</td>\n",
              "      <td>1.0</td>\n",
              "      <td>0.0</td>\n",
              "      <td>...</td>\n",
              "      <td>1.0</td>\n",
              "      <td>0.0</td>\n",
              "      <td>0.0</td>\n",
              "      <td>0.0</td>\n",
              "      <td>1.0</td>\n",
              "      <td>0.0</td>\n",
              "      <td>1.0</td>\n",
              "      <td>0.0</td>\n",
              "      <td>1.0</td>\n",
              "      <td>0.0</td>\n",
              "    </tr>\n",
              "  </tbody>\n",
              "</table>\n",
              "<p>3 rows × 61 columns</p>\n",
              "</div>\n",
              "      <button class=\"colab-df-convert\" onclick=\"convertToInteractive('df-9d588b4f-a0bd-47e2-8e99-ce12ee68f9d3')\"\n",
              "              title=\"Convert this dataframe to an interactive table.\"\n",
              "              style=\"display:none;\">\n",
              "        \n",
              "  <svg xmlns=\"http://www.w3.org/2000/svg\" height=\"24px\"viewBox=\"0 0 24 24\"\n",
              "       width=\"24px\">\n",
              "    <path d=\"M0 0h24v24H0V0z\" fill=\"none\"/>\n",
              "    <path d=\"M18.56 5.44l.94 2.06.94-2.06 2.06-.94-2.06-.94-.94-2.06-.94 2.06-2.06.94zm-11 1L8.5 8.5l.94-2.06 2.06-.94-2.06-.94L8.5 2.5l-.94 2.06-2.06.94zm10 10l.94 2.06.94-2.06 2.06-.94-2.06-.94-.94-2.06-.94 2.06-2.06.94z\"/><path d=\"M17.41 7.96l-1.37-1.37c-.4-.4-.92-.59-1.43-.59-.52 0-1.04.2-1.43.59L10.3 9.45l-7.72 7.72c-.78.78-.78 2.05 0 2.83L4 21.41c.39.39.9.59 1.41.59.51 0 1.02-.2 1.41-.59l7.78-7.78 2.81-2.81c.8-.78.8-2.07 0-2.86zM5.41 20L4 18.59l7.72-7.72 1.47 1.35L5.41 20z\"/>\n",
              "  </svg>\n",
              "      </button>\n",
              "      \n",
              "  <style>\n",
              "    .colab-df-container {\n",
              "      display:flex;\n",
              "      flex-wrap:wrap;\n",
              "      gap: 12px;\n",
              "    }\n",
              "\n",
              "    .colab-df-convert {\n",
              "      background-color: #E8F0FE;\n",
              "      border: none;\n",
              "      border-radius: 50%;\n",
              "      cursor: pointer;\n",
              "      display: none;\n",
              "      fill: #1967D2;\n",
              "      height: 32px;\n",
              "      padding: 0 0 0 0;\n",
              "      width: 32px;\n",
              "    }\n",
              "\n",
              "    .colab-df-convert:hover {\n",
              "      background-color: #E2EBFA;\n",
              "      box-shadow: 0px 1px 2px rgba(60, 64, 67, 0.3), 0px 1px 3px 1px rgba(60, 64, 67, 0.15);\n",
              "      fill: #174EA6;\n",
              "    }\n",
              "\n",
              "    [theme=dark] .colab-df-convert {\n",
              "      background-color: #3B4455;\n",
              "      fill: #D2E3FC;\n",
              "    }\n",
              "\n",
              "    [theme=dark] .colab-df-convert:hover {\n",
              "      background-color: #434B5C;\n",
              "      box-shadow: 0px 1px 3px 1px rgba(0, 0, 0, 0.15);\n",
              "      filter: drop-shadow(0px 1px 2px rgba(0, 0, 0, 0.3));\n",
              "      fill: #FFFFFF;\n",
              "    }\n",
              "  </style>\n",
              "\n",
              "      <script>\n",
              "        const buttonEl =\n",
              "          document.querySelector('#df-9d588b4f-a0bd-47e2-8e99-ce12ee68f9d3 button.colab-df-convert');\n",
              "        buttonEl.style.display =\n",
              "          google.colab.kernel.accessAllowed ? 'block' : 'none';\n",
              "\n",
              "        async function convertToInteractive(key) {\n",
              "          const element = document.querySelector('#df-9d588b4f-a0bd-47e2-8e99-ce12ee68f9d3');\n",
              "          const dataTable =\n",
              "            await google.colab.kernel.invokeFunction('convertToInteractive',\n",
              "                                                     [key], {});\n",
              "          if (!dataTable) return;\n",
              "\n",
              "          const docLinkHtml = 'Like what you see? Visit the ' +\n",
              "            '<a target=\"_blank\" href=https://colab.research.google.com/notebooks/data_table.ipynb>data table notebook</a>'\n",
              "            + ' to learn more about interactive tables.';\n",
              "          element.innerHTML = '';\n",
              "          dataTable['output_type'] = 'display_data';\n",
              "          await google.colab.output.renderOutput(dataTable, element);\n",
              "          const docLink = document.createElement('div');\n",
              "          docLink.innerHTML = docLinkHtml;\n",
              "          element.appendChild(docLink);\n",
              "        }\n",
              "      </script>\n",
              "    </div>\n",
              "  </div>\n",
              "  "
            ]
          },
          "metadata": {},
          "execution_count": 98
        }
      ]
    },
    {
      "cell_type": "markdown",
      "source": [
        "### **Обучение моделей**\n",
        "### Логистическая регрессия\n",
        "**Дополнительное условие к проверке качества работы модели:**\n",
        "\n",
        "Хуже классифицировать клиента как хорошего, когда он плохой (5), чем классифицировать клиента как плохого, когда он хороший(1)."
      ],
      "metadata": {
        "id": "V825CAexd0Qs"
      }
    },
    {
      "cell_type": "code",
      "source": [
        "# Для выведения результатов\n",
        "def results(model, X_test, Y_test, unique_targets):\n",
        "  preds = model.predict(X_test)\n",
        "  print(confusion_matrix(Y_test, preds))\n",
        "  print(classification_report(Y_test, preds, target_names = unique_targets))"
      ],
      "metadata": {
        "id": "46IbGTommVbV"
      },
      "execution_count": 100,
      "outputs": []
    },
    {
      "cell_type": "code",
      "source": [
        "def good_features(model, n_features, predictors, target):\n",
        "\n",
        "  rfe = RFE(model, n_features_to_select=n_features)\n",
        "  rfe = rfe.fit(predictors, target.values.ravel())\n",
        "\n",
        "  rank_log = pd.DataFrame(rfe.support_,index=predictors.columns,columns=['Rank'])\n",
        "  needful_features = np.asarray(rank_log.loc[rank_log.Rank == np.bool_('True')].index)\n",
        "\n",
        "  X = predictors[needful_features]\n",
        "  y = target\n",
        "\n",
        "  return X, y"
      ],
      "metadata": {
        "id": "djKPVdqQLVVO"
      },
      "execution_count": 101,
      "outputs": []
    },
    {
      "cell_type": "code",
      "source": [
        "test_ratio = 0.23\n",
        "\n",
        "X_train, X_test, y_train, y_test = train_test_split(Predictors_dummies, \n",
        "                                                    Target_dummies, \n",
        "                                                    stratify=Target_dummies,\n",
        "                                                    test_size = test_ratio, \n",
        "                                                    random_state=123)\n",
        "\n",
        "print(X_train.shape)\n",
        "print(X_test.shape)\n",
        "\n",
        "print(f\"Количество строк в y_train по классам: {np.bincount(y_train)}\")\n",
        "print(f\"Количество строк в y_test по классам: {np.bincount(y_test)}\")"
      ],
      "metadata": {
        "colab": {
          "base_uri": "https://localhost:8080/"
        },
        "id": "FMKz-AJ9NxkE",
        "outputId": "6d44d612-121a-4e84-d61f-16cd15961651"
      },
      "execution_count": 436,
      "outputs": [
        {
          "output_type": "stream",
          "name": "stdout",
          "text": [
            "(1001, 61)\n",
            "(299, 61)\n",
            "Количество строк в y_train по классам: [462 539]\n",
            "Количество строк в y_test по классам: [138 161]\n"
          ]
        }
      ]
    },
    {
      "cell_type": "code",
      "source": [
        "# X, y = good_features(model_LogisticReg, 28, Predictors_dummies, Target_dummies)"
      ],
      "metadata": {
        "id": "1kQnHRuLib8b"
      },
      "execution_count": 181,
      "outputs": []
    },
    {
      "cell_type": "code",
      "source": [
        "# Удаляем колонки\n",
        "# needful_features = np.asarray([2,  5,  11, 12, 15, 16, 17, 19, 22, 23, 26,\n",
        "#        29, 30, 34, 35, 38, 41, 42, 43, 46, 49, 50, 53, 57])\n",
        "\n",
        "# X = Predictors_dummies[needful_features]\n",
        "\n",
        "# logit_model = sm.Logit(y,X)\n",
        "# result = logit_model.fit()\n",
        "# print(result.summary2())"
      ],
      "metadata": {
        "id": "7pdUyrXIQUUa"
      },
      "execution_count": 135,
      "outputs": []
    },
    {
      "cell_type": "code",
      "source": [
        "# X_train, X_test, y_train, y_test = train_test_split(X, \n",
        "#                                                     y, \n",
        "#                                                     test_size=0.25, \n",
        "#                                                     random_state=123)\n",
        "\n",
        "model_LogisticReg = LogisticRegression(penalty='l2', C=0.08, random_state=0, solver='liblinear')\n",
        "model_LogisticReg.fit(X_train, y_train)\n",
        "model_LogisticReg.score(X_train, y_train)"
      ],
      "metadata": {
        "colab": {
          "base_uri": "https://localhost:8080/"
        },
        "id": "n_mLzLLrRfld",
        "outputId": "6559ffcf-83fe-4f6e-ded9-a5561b978834"
      },
      "execution_count": 442,
      "outputs": [
        {
          "output_type": "execute_result",
          "data": {
            "text/plain": [
              "0.7492507492507493"
            ]
          },
          "metadata": {},
          "execution_count": 442
        }
      ]
    },
    {
      "cell_type": "code",
      "source": [
        "results(model_LogisticReg, X_test, y_test, unique_targets)"
      ],
      "metadata": {
        "colab": {
          "base_uri": "https://localhost:8080/"
        },
        "id": "9S3yNYQjm3Z0",
        "outputId": "bc6e0547-d0df-4e25-bc60-e52312d58199"
      },
      "execution_count": 443,
      "outputs": [
        {
          "output_type": "stream",
          "name": "stdout",
          "text": [
            "[[102  36]\n",
            " [ 35 126]]\n",
            "              precision    recall  f1-score   support\n",
            "\n",
            "        good       0.74      0.74      0.74       138\n",
            "         bad       0.78      0.78      0.78       161\n",
            "\n",
            "    accuracy                           0.76       299\n",
            "   macro avg       0.76      0.76      0.76       299\n",
            "weighted avg       0.76      0.76      0.76       299\n",
            "\n"
          ]
        }
      ]
    },
    {
      "cell_type": "markdown",
      "source": [
        "**Итог:**\n",
        "\n",
        "Полученная модель не является достаточно эффективной, так как она склонна классифицировать плохих дебиторов как хороших в соотношении 0.97 вместо 0.2."
      ],
      "metadata": {
        "id": "3p7FsNwNqi5T"
      }
    },
    {
      "cell_type": "code",
      "source": [
        "# X, y = good_features(model_logistic_CV, 28, Predictors_dummies, Target_dummies)"
      ],
      "metadata": {
        "id": "4socHdEgnBfm"
      },
      "execution_count": 284,
      "outputs": []
    },
    {
      "cell_type": "code",
      "source": [
        "# X_train, X_test, y_train, y_test = train_test_split(X, \n",
        "#                                                     y, \n",
        "#                                                     test_size = 0.2, \n",
        "#                                                     random_state=123)\n",
        "\n",
        "model_logistic_CV = LogisticRegressionCV(penalty='l2', solver='newton-cg',\n",
        "                                         cv=6)\n",
        "\n",
        "model_logistic_CV.fit(X_train, y_train)\n",
        "model_logistic_CV.score(X_train, y_train)"
      ],
      "metadata": {
        "colab": {
          "base_uri": "https://localhost:8080/"
        },
        "id": "0lS6RkIXi97J",
        "outputId": "a7148a1a-45d9-4e95-f58d-8db06fd9d3f8"
      },
      "execution_count": 500,
      "outputs": [
        {
          "output_type": "stream",
          "name": "stderr",
          "text": [
            "Rounding errors prevent the line search from converging\n",
            "The line search algorithm did not converge\n",
            "Line Search failed\n"
          ]
        },
        {
          "output_type": "execute_result",
          "data": {
            "text/plain": [
              "0.7582417582417582"
            ]
          },
          "metadata": {},
          "execution_count": 500
        }
      ]
    },
    {
      "cell_type": "code",
      "source": [
        "results(model_logistic_CV, X_test, y_test, unique_targets)"
      ],
      "metadata": {
        "colab": {
          "base_uri": "https://localhost:8080/"
        },
        "id": "xNOU5LpUnG5E",
        "outputId": "89d850bf-b6d8-4204-e77f-20d64d07f6c1"
      },
      "execution_count": 501,
      "outputs": [
        {
          "output_type": "stream",
          "name": "stdout",
          "text": [
            "[[ 99  39]\n",
            " [ 36 125]]\n",
            "              precision    recall  f1-score   support\n",
            "\n",
            "        good       0.73      0.72      0.73       138\n",
            "         bad       0.76      0.78      0.77       161\n",
            "\n",
            "    accuracy                           0.75       299\n",
            "   macro avg       0.75      0.75      0.75       299\n",
            "weighted avg       0.75      0.75      0.75       299\n",
            "\n"
          ]
        }
      ]
    },
    {
      "cell_type": "code",
      "source": [
        "36/39"
      ],
      "metadata": {
        "colab": {
          "base_uri": "https://localhost:8080/"
        },
        "id": "FDhEYTeVas80",
        "outputId": "b193cb49-115f-4fbe-be68-7554c0fb7f20"
      },
      "execution_count": 502,
      "outputs": [
        {
          "output_type": "execute_result",
          "data": {
            "text/plain": [
              "0.9230769230769231"
            ]
          },
          "metadata": {},
          "execution_count": 502
        }
      ]
    },
    {
      "cell_type": "markdown",
      "source": [
        "**Итог:**\n",
        "\n",
        "Данная модель оказалась чуть более эффективной с точки зрения оценки на тесте и соотношения 0.92. Однако macro_avg=0.75"
      ],
      "metadata": {
        "id": "lb1FtJTdlD9T"
      }
    },
    {
      "cell_type": "markdown",
      "source": [
        "### KNN (Метод k ближайших соседей)"
      ],
      "metadata": {
        "id": "3vJoy0aYgOxm"
      }
    },
    {
      "cell_type": "code",
      "source": [
        "sklearn.neighbors.VALID_METRICS['ball_tree']"
      ],
      "metadata": {
        "colab": {
          "base_uri": "https://localhost:8080/"
        },
        "id": "ZtkWGGZk22ov",
        "outputId": "ed7cb084-1c61-4cd9-ea3e-cdaa9ac45f0d"
      },
      "execution_count": 324,
      "outputs": [
        {
          "output_type": "execute_result",
          "data": {
            "text/plain": [
              "['euclidean',\n",
              " 'l2',\n",
              " 'minkowski',\n",
              " 'p',\n",
              " 'manhattan',\n",
              " 'cityblock',\n",
              " 'l1',\n",
              " 'chebyshev',\n",
              " 'infinity',\n",
              " 'seuclidean',\n",
              " 'mahalanobis',\n",
              " 'wminkowski',\n",
              " 'hamming',\n",
              " 'canberra',\n",
              " 'braycurtis',\n",
              " 'matching',\n",
              " 'jaccard',\n",
              " 'dice',\n",
              " 'kulsinski',\n",
              " 'rogerstanimoto',\n",
              " 'russellrao',\n",
              " 'sokalmichener',\n",
              " 'sokalsneath',\n",
              " 'haversine',\n",
              " 'pyfunc']"
            ]
          },
          "metadata": {},
          "execution_count": 324
        }
      ]
    },
    {
      "cell_type": "code",
      "source": [
        "number_of_neighbors = np.arange(3, 20, 2)\n",
        "model_KNN = KNeighborsClassifier(algorithm='ball_tree', metric='russellrao')\n",
        "params = {\n",
        "    \"n_neighbors\": number_of_neighbors\n",
        "    }\n",
        "\n",
        "grid_search = GridSearchCV(estimator = model_KNN, \n",
        "                           param_grid = params, \n",
        "                           cv = 6, \n",
        "                           scoring = \"f1_macro\")"
      ],
      "metadata": {
        "id": "ObmsRR5KlPxT"
      },
      "execution_count": 521,
      "outputs": []
    },
    {
      "cell_type": "code",
      "source": [
        "grid_search.fit(X_train, y_train)\n",
        "print(grid_search.best_score_, grid_search.best_estimator_)"
      ],
      "metadata": {
        "colab": {
          "base_uri": "https://localhost:8080/"
        },
        "id": "DRQyLskMlmgD",
        "outputId": "255386f6-83f5-4046-db9b-82f25403b7b3"
      },
      "execution_count": 522,
      "outputs": [
        {
          "output_type": "stream",
          "name": "stdout",
          "text": [
            "0.6991056797679054 KNeighborsClassifier(algorithm='ball_tree', metric='russellrao')\n"
          ]
        }
      ]
    },
    {
      "cell_type": "code",
      "source": [
        "preds_knn = grid_search.predict(X_test)\n",
        "\n",
        "print(confusion_matrix(y_test, preds_knn))\n",
        "print(classification_report(y_test, preds_knn))"
      ],
      "metadata": {
        "colab": {
          "base_uri": "https://localhost:8080/"
        },
        "id": "yIgjc6pMlxPD",
        "outputId": "ab0f810f-e463-47d8-d80a-b938703954ae"
      },
      "execution_count": 523,
      "outputs": [
        {
          "output_type": "stream",
          "name": "stdout",
          "text": [
            "[[106  32]\n",
            " [ 38 123]]\n",
            "              precision    recall  f1-score   support\n",
            "\n",
            "           0       0.74      0.77      0.75       138\n",
            "           1       0.79      0.76      0.78       161\n",
            "\n",
            "    accuracy                           0.77       299\n",
            "   macro avg       0.76      0.77      0.77       299\n",
            "weighted avg       0.77      0.77      0.77       299\n",
            "\n"
          ]
        }
      ]
    },
    {
      "cell_type": "markdown",
      "source": [
        "**Итог:**\n",
        "\n",
        "Данная модель хуже предыдущих по критерию ошибочного распознавания (1.18), ее точность составляет всего 0.699."
      ],
      "metadata": {
        "id": "_ywY4PkS6EqB"
      }
    },
    {
      "cell_type": "markdown",
      "source": [
        "### SVM (Машина опорных векторов)"
      ],
      "metadata": {
        "id": "c35yx19wgV2u"
      }
    },
    {
      "cell_type": "markdown",
      "source": [
        "Не работает!"
      ],
      "metadata": {
        "id": "vftrFJ4ldt5D"
      }
    },
    {
      "cell_type": "code",
      "source": [
        "# line_param = np.linspace(1, 10, 20)\n",
        "# parameters = {'kernel':['linear'], 'C':line_param}\n",
        "# model = SVC()\n",
        "# grid_search_svm = GridSearchCV(estimator=model, param_grid=parameters, cv = 6)\n",
        "# grid_search_svm.fit(X_train, y_train)\n",
        "# grid_search_svm.best_score_\n",
        "\n",
        "# grid_search_svm.best_estimator_\n",
        "\n",
        "# preds_svm = grid_search_svm.predict(X_test).to(device)\n",
        "\n",
        "# print(confusion_matrix(y_test, preds_svm))\n",
        "# print(classification_report(y_test, preds_svm, target_names = unique_targets))"
      ],
      "metadata": {
        "id": "1U8QUUj57U5i"
      },
      "execution_count": 378,
      "outputs": []
    },
    {
      "cell_type": "markdown",
      "source": [
        "### Заключение"
      ],
      "metadata": {
        "id": "Bb5ynELONYKE"
      }
    },
    {
      "cell_type": "markdown",
      "source": [
        "Лучшей моделью оказалась model_logistic_CV."
      ],
      "metadata": {
        "id": "bIRb6-D1yRd6"
      }
    }
  ]
}